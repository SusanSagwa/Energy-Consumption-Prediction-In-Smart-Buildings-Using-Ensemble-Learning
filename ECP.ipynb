{
  "cells": [
    {
      "cell_type": "markdown",
      "metadata": {
        "id": "view-in-github",
        "colab_type": "text"
      },
      "source": [
        "<a href=\"https://colab.research.google.com/github/SusanSagwa/Energy-Consumption-Prediction-In-Smart-Buildings-Using-Ensemble-Learning/blob/main/ECP.ipynb\" target=\"_parent\"><img src=\"https://colab.research.google.com/assets/colab-badge.svg\" alt=\"Open In Colab\"/></a>"
      ]
    },
    {
      "cell_type": "code",
      "execution_count": 1,
      "metadata": {
        "colab": {
          "base_uri": "https://localhost:8080/",
          "height": 140
        },
        "id": "4pkWm0i9owkz",
        "outputId": "ef2e5300-0c02-45f9-902f-46f25ed531ff"
      },
      "outputs": [
        {
          "output_type": "stream",
          "name": "stdout",
          "text": [
            "Looking in indexes: https://pypi.org/simple, https://us-python.pkg.dev/colab-wheels/public/simple/\n",
            "Requirement already satisfied: scikit-learn==1.1.3 in /usr/local/lib/python3.8/dist-packages (1.1.3)\n",
            "Requirement already satisfied: joblib>=1.0.0 in /usr/local/lib/python3.8/dist-packages (from scikit-learn==1.1.3) (1.2.0)\n",
            "Requirement already satisfied: scipy>=1.3.2 in /usr/local/lib/python3.8/dist-packages (from scikit-learn==1.1.3) (1.7.3)\n",
            "Requirement already satisfied: numpy>=1.17.3 in /usr/local/lib/python3.8/dist-packages (from scikit-learn==1.1.3) (1.21.6)\n",
            "Requirement already satisfied: threadpoolctl>=2.0.0 in /usr/local/lib/python3.8/dist-packages (from scikit-learn==1.1.3) (3.1.0)\n"
          ]
        },
        {
          "output_type": "execute_result",
          "data": {
            "text/plain": [
              "'1.1.3'"
            ],
            "application/vnd.google.colaboratory.intrinsic+json": {
              "type": "string"
            }
          },
          "metadata": {},
          "execution_count": 1
        }
      ],
      "source": [
        "!pip install scikit-learn==1.1.3\n",
        "import sklearn\n",
        "sklearn.__version__"
      ]
    },
    {
      "cell_type": "code",
      "execution_count": 2,
      "metadata": {
        "id": "s5H7cD1ML8h3"
      },
      "outputs": [],
      "source": [
        "import os\n",
        "import gc\n",
        "import numpy as np # linear algebra\n",
        "import pandas as pd # data processing, CSV file I/O\n",
        "import datetime\n",
        "from sklearn.model_selection import RandomizedSearchCV, GridSearchCV\n",
        "from sklearn.tree import DecisionTreeRegressor\n",
        "from sklearn.linear_model import LinearRegression\n",
        "from sklearn.svm import SVR\n",
        "from sklearn.ensemble import GradientBoostingRegressor\n",
        "from sklearn.ensemble import StackingRegressor\n",
        "from sklearn.model_selection import train_test_split"
      ]
    },
    {
      "cell_type": "code",
      "execution_count": 3,
      "metadata": {
        "colab": {
          "base_uri": "https://localhost:8080/"
        },
        "id": "vFdlcON40wRF",
        "outputId": "f1207ee4-142d-48c2-c133-a2ee1f1cb569"
      },
      "outputs": [
        {
          "output_type": "stream",
          "name": "stdout",
          "text": [
            "Drive already mounted at /content/drive; to attempt to forcibly remount, call drive.mount(\"/content/drive\", force_remount=True).\n"
          ]
        }
      ],
      "source": [
        "from google.colab import drive\n",
        "drive.mount('/content/drive')"
      ]
    },
    {
      "cell_type": "code",
      "execution_count": 4,
      "metadata": {
        "id": "Pk1wM7Th1J37"
      },
      "outputs": [],
      "source": [
        "path = '/content/drive/MyDrive/EPdata'"
      ]
    },
    {
      "cell_type": "markdown",
      "source": [
        "# Data Preparation and Analysis"
      ],
      "metadata": {
        "id": "J5WNxjlb9VJh"
      }
    },
    {
      "cell_type": "markdown",
      "source": [
        "***Data dictionary***\n",
        "\n",
        "**Building metadata**\n",
        "\n",
        "1) building_id - Foreign key for the building metadata.\n",
        "\n",
        "2) meter - The meter id code. Read as {0: electricity, 1: chilledwater, 2: steam, 3: hotwater}. Not every building has all meter types.\n",
        "\n",
        "3) timestamp - When the measurement was taken\n",
        "\n",
        "4) meter_reading - The target variable. Energy consumption in kWh (or equivalent). Note that this is real data with measurement error, which we expect will impose a baseline level of modeling error. UPDATE: as discussed here, the site 0 electric meter readings are in kBTU.\n",
        "\n",
        "site_id - Foreign key for the weather files.\n",
        "\n",
        "building_id - Foreign key for training.csv\n",
        "\n",
        "primary_use - Indicator of the primary category of activities for the building\n",
        "\n",
        "square_feet - Gross floor area of the building\n",
        "\n",
        "year_built - Year building was opened\n",
        "\n",
        "floor_count - Number of floors of the building\n",
        "\n",
        "**Weather data from a meteorological station as close as possible to the site.**\n",
        "\n",
        "site_id\n",
        "\n",
        "air_temperature - Degrees Celsius\n",
        "\n",
        "cloud_coverage - Portion of the sky covered in clouds, in oktas\n",
        "\n",
        "dew_temperature - Degrees Celsius\n",
        "\n",
        "precip_depth_1_hr - Millimeters\n",
        "\n",
        "sea_level_pressure - Millibar/hectopascals\n",
        "\n",
        "wind_direction - Compass direction (0-360)\n",
        "\n",
        "wind_speed - Meters per second"
      ],
      "metadata": {
        "id": "aMB3fA2o8DfT"
      }
    },
    {
      "cell_type": "code",
      "execution_count": 5,
      "metadata": {
        "id": "ztvPOBLFqpiG"
      },
      "outputs": [],
      "source": [
        "def reduce_mem(df):\n",
        "    result = df.copy()\n",
        "    for col in result.columns:\n",
        "        col_data = result[col]\n",
        "        dn = col_data.dtype.name\n",
        "        if not dn.startswith(\"datetime\"):\n",
        "            if dn == \"object\":  # only object feature has low cardinality\n",
        "                result[col] = pd.to_numeric(col_data.astype(\"category\").cat.codes, downcast=\"unsigned\")\n",
        "            elif dn.startswith(\"int\") | dn.startswith(\"uint\"):\n",
        "                if col_data.min() >= 0:\n",
        "                    result[col] = pd.to_numeric(col_data, downcast=\"unsigned\")\n",
        "                else:\n",
        "                    result[col] = pd.to_numeric(col_data, downcast='integer')\n",
        "            else:\n",
        "                result[col] = pd.to_numeric(col_data, downcast='float')\n",
        "    return result\n",
        "\n",
        "def _delete_bad_sitezero(X, y):\n",
        "    cond = (X.timestamp > '2016-05-20') | (X.site_id != 0) | (X.meter != 0)\n",
        "    X = X[cond]\n",
        "    y = y.reindex_like(X)\n",
        "    return X.reset_index(drop=True), y.reset_index(drop=True)\n",
        "\n",
        "def _extract_temporal(X, train=True):\n",
        "    X['hour'] = X.timestamp.dt.hour\n",
        "    X['weekday'] = X.timestamp.dt.weekday\n",
        "    if train:\n",
        "        # include month to create validation set, to be deleted before training\n",
        "        X['month'] = X.timestamp.dt.month \n",
        "    # month and year cause overfit, could try other (holiday, business, etc.)\n",
        "    return reduce_mem(X)\n",
        "def load_data(source='train'):\n",
        "    assert source in ['train','test']\n",
        "    df = pd.read_csv(f'{path}/{source}.csv', parse_dates=['timestamp'])\n",
        "    return reduce_mem(df)\n",
        "\n",
        "def load_building():\n",
        "    df = pd.read_csv(f'{path}/building_metadata.csv').fillna(-1)\n",
        "    return reduce_mem(df)\n",
        "\n",
        "def load_weather(source='train', fix_timezone=True, impute=True, add_lag=True):\n",
        "    assert source in ['train','test']\n",
        "    df = pd.read_csv(f'{path}/weather_{source}.csv', parse_dates=['timestamp'])\n",
        "    if fix_timezone:\n",
        "        offsets = [5,0,9,6,8,0,6,6,5,7,8,6,0,7,6,6]\n",
        "        offset_map = {site: offset for site, offset in enumerate(offsets)}\n",
        "        df.timestamp = df.timestamp - pd.to_timedelta(df.site_id.map(offset_map), unit='h')\n",
        "    if impute:\n",
        "        site_dfs = []\n",
        "        for site in df.site_id.unique():\n",
        "            if source == 'train':\n",
        "                new_idx = pd.date_range(start='2016-1-1', end='2016-12-31-23', freq='H')\n",
        "            else:\n",
        "                new_idx = pd.date_range(start='2017-1-1', end='2018-12-31-23', freq='H')\n",
        "            site_df = df[df.site_id == site].set_index('timestamp').reindex(new_idx)\n",
        "            site_df.site_id = site\n",
        "            for col in [c for c in site_df.columns if c != 'site_id']:\n",
        "                site_df[col] = site_df[col].interpolate(limit_direction='both', method='linear')\n",
        "                site_df[col] = site_df[col].fillna(df[col].median())\n",
        "            site_dfs.append(site_df)\n",
        "        df = pd.concat(site_dfs)\n",
        "        df['timestamp'] = df.index\n",
        "        df = df.reset_index(drop=True)\n",
        "    if add_lag:\n",
        "        df = add_lag_features(df, window=3)\n",
        "    \n",
        "    return reduce_mem(df)\n",
        "\n",
        "def merged_dfs(source='train', fix_timezone=True, impute=True, add_lag=False):\n",
        "    df = load_data(source=source).merge(load_building(), on='building_id', how='left')\n",
        "    df = df.merge(load_weather(source=source, fix_timezone=fix_timezone, impute=impute, add_lag=add_lag),\n",
        "                 on=['site_id','timestamp'], how='left')\n",
        "    if source == 'train':\n",
        "      X = df.drop('meter_reading', axis=1)  \n",
        "      y = np.log1p(df.meter_reading)  # log-transform of target\n",
        "      return X, y\n",
        "    elif source == 'test':\n",
        "      return df\n",
        "   "
      ]
    },
    {
      "cell_type": "code",
      "execution_count": 6,
      "metadata": {
        "colab": {
          "base_uri": "https://localhost:8080/",
          "height": 444
        },
        "id": "-XoTVj9v-yup",
        "outputId": "5ede4ef9-dcd7-4fa9-b17c-32b33b48c41e"
      },
      "outputs": [
        {
          "output_type": "execute_result",
          "data": {
            "text/plain": [
              "          building_id  meter           timestamp  site_id  primary_use  \\\n",
              "15625611          915      0 2016-10-11 02:00:00        9            0   \n",
              "8014654           412      0 2016-05-28 13:00:00        3            0   \n",
              "2126126           217      0 2016-02-08 13:00:00        2            0   \n",
              "10449734         1030      1 2016-07-10 19:00:00       11            0   \n",
              "15167664         1018      1 2016-10-03 00:00:00       10            0   \n",
              "\n",
              "          square_feet  year_built  floor_count  air_temperature  \\\n",
              "15625611       205141        -1.0         -1.0        12.800000   \n",
              "8014654        110000        -1.0         -1.0        30.000000   \n",
              "2126126        282946      2003.0         -1.0        28.299999   \n",
              "10449734        68030        -1.0         -1.0        18.400000   \n",
              "15167664       186840        -1.0          2.0        16.745455   \n",
              "\n",
              "          cloud_coverage  dew_temperature  precip_depth_1_hr  \\\n",
              "15625611         0.00000              8.9           0.000000   \n",
              "8014654          4.00000             20.6           0.000000   \n",
              "2126126          2.00000             -7.8           0.000000   \n",
              "10449734         2.00000             14.3           2.614458   \n",
              "15167664         1.74359              1.6           0.000000   \n",
              "\n",
              "          sea_level_pressure  wind_direction  wind_speed  \n",
              "15625611         1019.599976        0.000000         0.0  \n",
              "8014654          1020.400024      170.000000         5.7  \n",
              "2126126          1018.099976       50.000000         4.6  \n",
              "10449734         1015.599976      280.000000         1.0  \n",
              "15167664          998.990906      229.090912         5.7  "
            ],
            "text/html": [
              "\n",
              "  <div id=\"df-6d513121-1ab6-40e4-b738-2188bcff8559\">\n",
              "    <div class=\"colab-df-container\">\n",
              "      <div>\n",
              "<style scoped>\n",
              "    .dataframe tbody tr th:only-of-type {\n",
              "        vertical-align: middle;\n",
              "    }\n",
              "\n",
              "    .dataframe tbody tr th {\n",
              "        vertical-align: top;\n",
              "    }\n",
              "\n",
              "    .dataframe thead th {\n",
              "        text-align: right;\n",
              "    }\n",
              "</style>\n",
              "<table border=\"1\" class=\"dataframe\">\n",
              "  <thead>\n",
              "    <tr style=\"text-align: right;\">\n",
              "      <th></th>\n",
              "      <th>building_id</th>\n",
              "      <th>meter</th>\n",
              "      <th>timestamp</th>\n",
              "      <th>site_id</th>\n",
              "      <th>primary_use</th>\n",
              "      <th>square_feet</th>\n",
              "      <th>year_built</th>\n",
              "      <th>floor_count</th>\n",
              "      <th>air_temperature</th>\n",
              "      <th>cloud_coverage</th>\n",
              "      <th>dew_temperature</th>\n",
              "      <th>precip_depth_1_hr</th>\n",
              "      <th>sea_level_pressure</th>\n",
              "      <th>wind_direction</th>\n",
              "      <th>wind_speed</th>\n",
              "    </tr>\n",
              "  </thead>\n",
              "  <tbody>\n",
              "    <tr>\n",
              "      <th>15625611</th>\n",
              "      <td>915</td>\n",
              "      <td>0</td>\n",
              "      <td>2016-10-11 02:00:00</td>\n",
              "      <td>9</td>\n",
              "      <td>0</td>\n",
              "      <td>205141</td>\n",
              "      <td>-1.0</td>\n",
              "      <td>-1.0</td>\n",
              "      <td>12.800000</td>\n",
              "      <td>0.00000</td>\n",
              "      <td>8.9</td>\n",
              "      <td>0.000000</td>\n",
              "      <td>1019.599976</td>\n",
              "      <td>0.000000</td>\n",
              "      <td>0.0</td>\n",
              "    </tr>\n",
              "    <tr>\n",
              "      <th>8014654</th>\n",
              "      <td>412</td>\n",
              "      <td>0</td>\n",
              "      <td>2016-05-28 13:00:00</td>\n",
              "      <td>3</td>\n",
              "      <td>0</td>\n",
              "      <td>110000</td>\n",
              "      <td>-1.0</td>\n",
              "      <td>-1.0</td>\n",
              "      <td>30.000000</td>\n",
              "      <td>4.00000</td>\n",
              "      <td>20.6</td>\n",
              "      <td>0.000000</td>\n",
              "      <td>1020.400024</td>\n",
              "      <td>170.000000</td>\n",
              "      <td>5.7</td>\n",
              "    </tr>\n",
              "    <tr>\n",
              "      <th>2126126</th>\n",
              "      <td>217</td>\n",
              "      <td>0</td>\n",
              "      <td>2016-02-08 13:00:00</td>\n",
              "      <td>2</td>\n",
              "      <td>0</td>\n",
              "      <td>282946</td>\n",
              "      <td>2003.0</td>\n",
              "      <td>-1.0</td>\n",
              "      <td>28.299999</td>\n",
              "      <td>2.00000</td>\n",
              "      <td>-7.8</td>\n",
              "      <td>0.000000</td>\n",
              "      <td>1018.099976</td>\n",
              "      <td>50.000000</td>\n",
              "      <td>4.6</td>\n",
              "    </tr>\n",
              "    <tr>\n",
              "      <th>10449734</th>\n",
              "      <td>1030</td>\n",
              "      <td>1</td>\n",
              "      <td>2016-07-10 19:00:00</td>\n",
              "      <td>11</td>\n",
              "      <td>0</td>\n",
              "      <td>68030</td>\n",
              "      <td>-1.0</td>\n",
              "      <td>-1.0</td>\n",
              "      <td>18.400000</td>\n",
              "      <td>2.00000</td>\n",
              "      <td>14.3</td>\n",
              "      <td>2.614458</td>\n",
              "      <td>1015.599976</td>\n",
              "      <td>280.000000</td>\n",
              "      <td>1.0</td>\n",
              "    </tr>\n",
              "    <tr>\n",
              "      <th>15167664</th>\n",
              "      <td>1018</td>\n",
              "      <td>1</td>\n",
              "      <td>2016-10-03 00:00:00</td>\n",
              "      <td>10</td>\n",
              "      <td>0</td>\n",
              "      <td>186840</td>\n",
              "      <td>-1.0</td>\n",
              "      <td>2.0</td>\n",
              "      <td>16.745455</td>\n",
              "      <td>1.74359</td>\n",
              "      <td>1.6</td>\n",
              "      <td>0.000000</td>\n",
              "      <td>998.990906</td>\n",
              "      <td>229.090912</td>\n",
              "      <td>5.7</td>\n",
              "    </tr>\n",
              "  </tbody>\n",
              "</table>\n",
              "</div>\n",
              "      <button class=\"colab-df-convert\" onclick=\"convertToInteractive('df-6d513121-1ab6-40e4-b738-2188bcff8559')\"\n",
              "              title=\"Convert this dataframe to an interactive table.\"\n",
              "              style=\"display:none;\">\n",
              "        \n",
              "  <svg xmlns=\"http://www.w3.org/2000/svg\" height=\"24px\"viewBox=\"0 0 24 24\"\n",
              "       width=\"24px\">\n",
              "    <path d=\"M0 0h24v24H0V0z\" fill=\"none\"/>\n",
              "    <path d=\"M18.56 5.44l.94 2.06.94-2.06 2.06-.94-2.06-.94-.94-2.06-.94 2.06-2.06.94zm-11 1L8.5 8.5l.94-2.06 2.06-.94-2.06-.94L8.5 2.5l-.94 2.06-2.06.94zm10 10l.94 2.06.94-2.06 2.06-.94-2.06-.94-.94-2.06-.94 2.06-2.06.94z\"/><path d=\"M17.41 7.96l-1.37-1.37c-.4-.4-.92-.59-1.43-.59-.52 0-1.04.2-1.43.59L10.3 9.45l-7.72 7.72c-.78.78-.78 2.05 0 2.83L4 21.41c.39.39.9.59 1.41.59.51 0 1.02-.2 1.41-.59l7.78-7.78 2.81-2.81c.8-.78.8-2.07 0-2.86zM5.41 20L4 18.59l7.72-7.72 1.47 1.35L5.41 20z\"/>\n",
              "  </svg>\n",
              "      </button>\n",
              "      \n",
              "  <style>\n",
              "    .colab-df-container {\n",
              "      display:flex;\n",
              "      flex-wrap:wrap;\n",
              "      gap: 12px;\n",
              "    }\n",
              "\n",
              "    .colab-df-convert {\n",
              "      background-color: #E8F0FE;\n",
              "      border: none;\n",
              "      border-radius: 50%;\n",
              "      cursor: pointer;\n",
              "      display: none;\n",
              "      fill: #1967D2;\n",
              "      height: 32px;\n",
              "      padding: 0 0 0 0;\n",
              "      width: 32px;\n",
              "    }\n",
              "\n",
              "    .colab-df-convert:hover {\n",
              "      background-color: #E2EBFA;\n",
              "      box-shadow: 0px 1px 2px rgba(60, 64, 67, 0.3), 0px 1px 3px 1px rgba(60, 64, 67, 0.15);\n",
              "      fill: #174EA6;\n",
              "    }\n",
              "\n",
              "    [theme=dark] .colab-df-convert {\n",
              "      background-color: #3B4455;\n",
              "      fill: #D2E3FC;\n",
              "    }\n",
              "\n",
              "    [theme=dark] .colab-df-convert:hover {\n",
              "      background-color: #434B5C;\n",
              "      box-shadow: 0px 1px 3px 1px rgba(0, 0, 0, 0.15);\n",
              "      filter: drop-shadow(0px 1px 2px rgba(0, 0, 0, 0.3));\n",
              "      fill: #FFFFFF;\n",
              "    }\n",
              "  </style>\n",
              "\n",
              "      <script>\n",
              "        const buttonEl =\n",
              "          document.querySelector('#df-6d513121-1ab6-40e4-b738-2188bcff8559 button.colab-df-convert');\n",
              "        buttonEl.style.display =\n",
              "          google.colab.kernel.accessAllowed ? 'block' : 'none';\n",
              "\n",
              "        async function convertToInteractive(key) {\n",
              "          const element = document.querySelector('#df-6d513121-1ab6-40e4-b738-2188bcff8559');\n",
              "          const dataTable =\n",
              "            await google.colab.kernel.invokeFunction('convertToInteractive',\n",
              "                                                     [key], {});\n",
              "          if (!dataTable) return;\n",
              "\n",
              "          const docLinkHtml = 'Like what you see? Visit the ' +\n",
              "            '<a target=\"_blank\" href=https://colab.research.google.com/notebooks/data_table.ipynb>data table notebook</a>'\n",
              "            + ' to learn more about interactive tables.';\n",
              "          element.innerHTML = '';\n",
              "          dataTable['output_type'] = 'display_data';\n",
              "          await google.colab.output.renderOutput(dataTable, element);\n",
              "          const docLink = document.createElement('div');\n",
              "          docLink.innerHTML = docLinkHtml;\n",
              "          element.appendChild(docLink);\n",
              "        }\n",
              "      </script>\n",
              "    </div>\n",
              "  </div>\n",
              "  "
            ]
          },
          "metadata": {},
          "execution_count": 6
        }
      ],
      "source": [
        "X_train, y_train = merged_dfs(add_lag=False)\n",
        "X_train = X_train.groupby('primary_use', group_keys=False).apply(lambda X: X.sample(6250))\n",
        "X_train.head()"
      ]
    },
    {
      "cell_type": "code",
      "execution_count": 7,
      "metadata": {
        "colab": {
          "base_uri": "https://localhost:8080/"
        },
        "id": "NvrFx9jAAlNr",
        "outputId": "cbdf6bd4-824d-4593-dfc7-3a79789765ed"
      },
      "outputs": [
        {
          "output_type": "execute_result",
          "data": {
            "text/plain": [
              "21"
            ]
          },
          "metadata": {},
          "execution_count": 7
        }
      ],
      "source": [
        "# preprocessing\n",
        "X_train, y_train = _delete_bad_sitezero(X_train, y_train)\n",
        "X_train = _extract_temporal(X_train)\n",
        "\n",
        "# remove timestamp and other unimportant features\n",
        "to_drop = ['timestamp','sea_level_pressure','wind_direction','wind_speed', 'precip_depth_1_hr', 'year_built', 'building_id', 'site_id']\n",
        "X_train.drop(to_drop, axis=1, inplace=True)\n",
        "\n",
        "gc.collect()"
      ]
    },
    {
      "cell_type": "code",
      "execution_count": 8,
      "metadata": {
        "colab": {
          "base_uri": "https://localhost:8080/",
          "height": 424
        },
        "id": "7Dmxi2Ni1tO-",
        "outputId": "d5783385-3a5b-4e4d-caf5-41a6fe69b7c5"
      },
      "outputs": [
        {
          "output_type": "execute_result",
          "data": {
            "text/plain": [
              "       meter  primary_use  square_feet  floor_count  air_temperature  \\\n",
              "0          0            0       205141         -1.0        12.800000   \n",
              "1          0            0       110000         -1.0        30.000000   \n",
              "2          0            0       282946         -1.0        28.299999   \n",
              "3          1            0        68030         -1.0        18.400000   \n",
              "4          1            0       186840          2.0        16.745455   \n",
              "...      ...          ...          ...          ...              ...   \n",
              "97232      0           15        39464         -1.0        25.600000   \n",
              "97233      2           15        19059         -1.0        16.100000   \n",
              "97234      0           15       202829         -1.0         6.100000   \n",
              "97235      0           15        27318         -1.0        31.100000   \n",
              "97236      0           15        15120          1.0        25.600000   \n",
              "\n",
              "       cloud_coverage  dew_temperature  hour  weekday  month  \n",
              "0             0.00000         8.900000     2        1     10  \n",
              "1             4.00000        20.600000    13        5      5  \n",
              "2             2.00000        -7.800000    13        0      2  \n",
              "3             2.00000        14.300000    19        6      7  \n",
              "4             1.74359         1.600000     0        0     10  \n",
              "...               ...              ...   ...      ...    ...  \n",
              "97232         6.00000        15.600000    14        5      8  \n",
              "97233         4.00000        -0.600000    12        6      5  \n",
              "97234         8.00000        -0.600000    18        0      2  \n",
              "97235         4.00000        19.400000     8        6      7  \n",
              "97236         6.00000        23.299999    22        2      6  \n",
              "\n",
              "[97237 rows x 10 columns]"
            ],
            "text/html": [
              "\n",
              "  <div id=\"df-cb90ff2b-28a4-4766-b7a1-ee9709c71735\">\n",
              "    <div class=\"colab-df-container\">\n",
              "      <div>\n",
              "<style scoped>\n",
              "    .dataframe tbody tr th:only-of-type {\n",
              "        vertical-align: middle;\n",
              "    }\n",
              "\n",
              "    .dataframe tbody tr th {\n",
              "        vertical-align: top;\n",
              "    }\n",
              "\n",
              "    .dataframe thead th {\n",
              "        text-align: right;\n",
              "    }\n",
              "</style>\n",
              "<table border=\"1\" class=\"dataframe\">\n",
              "  <thead>\n",
              "    <tr style=\"text-align: right;\">\n",
              "      <th></th>\n",
              "      <th>meter</th>\n",
              "      <th>primary_use</th>\n",
              "      <th>square_feet</th>\n",
              "      <th>floor_count</th>\n",
              "      <th>air_temperature</th>\n",
              "      <th>cloud_coverage</th>\n",
              "      <th>dew_temperature</th>\n",
              "      <th>hour</th>\n",
              "      <th>weekday</th>\n",
              "      <th>month</th>\n",
              "    </tr>\n",
              "  </thead>\n",
              "  <tbody>\n",
              "    <tr>\n",
              "      <th>0</th>\n",
              "      <td>0</td>\n",
              "      <td>0</td>\n",
              "      <td>205141</td>\n",
              "      <td>-1.0</td>\n",
              "      <td>12.800000</td>\n",
              "      <td>0.00000</td>\n",
              "      <td>8.900000</td>\n",
              "      <td>2</td>\n",
              "      <td>1</td>\n",
              "      <td>10</td>\n",
              "    </tr>\n",
              "    <tr>\n",
              "      <th>1</th>\n",
              "      <td>0</td>\n",
              "      <td>0</td>\n",
              "      <td>110000</td>\n",
              "      <td>-1.0</td>\n",
              "      <td>30.000000</td>\n",
              "      <td>4.00000</td>\n",
              "      <td>20.600000</td>\n",
              "      <td>13</td>\n",
              "      <td>5</td>\n",
              "      <td>5</td>\n",
              "    </tr>\n",
              "    <tr>\n",
              "      <th>2</th>\n",
              "      <td>0</td>\n",
              "      <td>0</td>\n",
              "      <td>282946</td>\n",
              "      <td>-1.0</td>\n",
              "      <td>28.299999</td>\n",
              "      <td>2.00000</td>\n",
              "      <td>-7.800000</td>\n",
              "      <td>13</td>\n",
              "      <td>0</td>\n",
              "      <td>2</td>\n",
              "    </tr>\n",
              "    <tr>\n",
              "      <th>3</th>\n",
              "      <td>1</td>\n",
              "      <td>0</td>\n",
              "      <td>68030</td>\n",
              "      <td>-1.0</td>\n",
              "      <td>18.400000</td>\n",
              "      <td>2.00000</td>\n",
              "      <td>14.300000</td>\n",
              "      <td>19</td>\n",
              "      <td>6</td>\n",
              "      <td>7</td>\n",
              "    </tr>\n",
              "    <tr>\n",
              "      <th>4</th>\n",
              "      <td>1</td>\n",
              "      <td>0</td>\n",
              "      <td>186840</td>\n",
              "      <td>2.0</td>\n",
              "      <td>16.745455</td>\n",
              "      <td>1.74359</td>\n",
              "      <td>1.600000</td>\n",
              "      <td>0</td>\n",
              "      <td>0</td>\n",
              "      <td>10</td>\n",
              "    </tr>\n",
              "    <tr>\n",
              "      <th>...</th>\n",
              "      <td>...</td>\n",
              "      <td>...</td>\n",
              "      <td>...</td>\n",
              "      <td>...</td>\n",
              "      <td>...</td>\n",
              "      <td>...</td>\n",
              "      <td>...</td>\n",
              "      <td>...</td>\n",
              "      <td>...</td>\n",
              "      <td>...</td>\n",
              "    </tr>\n",
              "    <tr>\n",
              "      <th>97232</th>\n",
              "      <td>0</td>\n",
              "      <td>15</td>\n",
              "      <td>39464</td>\n",
              "      <td>-1.0</td>\n",
              "      <td>25.600000</td>\n",
              "      <td>6.00000</td>\n",
              "      <td>15.600000</td>\n",
              "      <td>14</td>\n",
              "      <td>5</td>\n",
              "      <td>8</td>\n",
              "    </tr>\n",
              "    <tr>\n",
              "      <th>97233</th>\n",
              "      <td>2</td>\n",
              "      <td>15</td>\n",
              "      <td>19059</td>\n",
              "      <td>-1.0</td>\n",
              "      <td>16.100000</td>\n",
              "      <td>4.00000</td>\n",
              "      <td>-0.600000</td>\n",
              "      <td>12</td>\n",
              "      <td>6</td>\n",
              "      <td>5</td>\n",
              "    </tr>\n",
              "    <tr>\n",
              "      <th>97234</th>\n",
              "      <td>0</td>\n",
              "      <td>15</td>\n",
              "      <td>202829</td>\n",
              "      <td>-1.0</td>\n",
              "      <td>6.100000</td>\n",
              "      <td>8.00000</td>\n",
              "      <td>-0.600000</td>\n",
              "      <td>18</td>\n",
              "      <td>0</td>\n",
              "      <td>2</td>\n",
              "    </tr>\n",
              "    <tr>\n",
              "      <th>97235</th>\n",
              "      <td>0</td>\n",
              "      <td>15</td>\n",
              "      <td>27318</td>\n",
              "      <td>-1.0</td>\n",
              "      <td>31.100000</td>\n",
              "      <td>4.00000</td>\n",
              "      <td>19.400000</td>\n",
              "      <td>8</td>\n",
              "      <td>6</td>\n",
              "      <td>7</td>\n",
              "    </tr>\n",
              "    <tr>\n",
              "      <th>97236</th>\n",
              "      <td>0</td>\n",
              "      <td>15</td>\n",
              "      <td>15120</td>\n",
              "      <td>1.0</td>\n",
              "      <td>25.600000</td>\n",
              "      <td>6.00000</td>\n",
              "      <td>23.299999</td>\n",
              "      <td>22</td>\n",
              "      <td>2</td>\n",
              "      <td>6</td>\n",
              "    </tr>\n",
              "  </tbody>\n",
              "</table>\n",
              "<p>97237 rows × 10 columns</p>\n",
              "</div>\n",
              "      <button class=\"colab-df-convert\" onclick=\"convertToInteractive('df-cb90ff2b-28a4-4766-b7a1-ee9709c71735')\"\n",
              "              title=\"Convert this dataframe to an interactive table.\"\n",
              "              style=\"display:none;\">\n",
              "        \n",
              "  <svg xmlns=\"http://www.w3.org/2000/svg\" height=\"24px\"viewBox=\"0 0 24 24\"\n",
              "       width=\"24px\">\n",
              "    <path d=\"M0 0h24v24H0V0z\" fill=\"none\"/>\n",
              "    <path d=\"M18.56 5.44l.94 2.06.94-2.06 2.06-.94-2.06-.94-.94-2.06-.94 2.06-2.06.94zm-11 1L8.5 8.5l.94-2.06 2.06-.94-2.06-.94L8.5 2.5l-.94 2.06-2.06.94zm10 10l.94 2.06.94-2.06 2.06-.94-2.06-.94-.94-2.06-.94 2.06-2.06.94z\"/><path d=\"M17.41 7.96l-1.37-1.37c-.4-.4-.92-.59-1.43-.59-.52 0-1.04.2-1.43.59L10.3 9.45l-7.72 7.72c-.78.78-.78 2.05 0 2.83L4 21.41c.39.39.9.59 1.41.59.51 0 1.02-.2 1.41-.59l7.78-7.78 2.81-2.81c.8-.78.8-2.07 0-2.86zM5.41 20L4 18.59l7.72-7.72 1.47 1.35L5.41 20z\"/>\n",
              "  </svg>\n",
              "      </button>\n",
              "      \n",
              "  <style>\n",
              "    .colab-df-container {\n",
              "      display:flex;\n",
              "      flex-wrap:wrap;\n",
              "      gap: 12px;\n",
              "    }\n",
              "\n",
              "    .colab-df-convert {\n",
              "      background-color: #E8F0FE;\n",
              "      border: none;\n",
              "      border-radius: 50%;\n",
              "      cursor: pointer;\n",
              "      display: none;\n",
              "      fill: #1967D2;\n",
              "      height: 32px;\n",
              "      padding: 0 0 0 0;\n",
              "      width: 32px;\n",
              "    }\n",
              "\n",
              "    .colab-df-convert:hover {\n",
              "      background-color: #E2EBFA;\n",
              "      box-shadow: 0px 1px 2px rgba(60, 64, 67, 0.3), 0px 1px 3px 1px rgba(60, 64, 67, 0.15);\n",
              "      fill: #174EA6;\n",
              "    }\n",
              "\n",
              "    [theme=dark] .colab-df-convert {\n",
              "      background-color: #3B4455;\n",
              "      fill: #D2E3FC;\n",
              "    }\n",
              "\n",
              "    [theme=dark] .colab-df-convert:hover {\n",
              "      background-color: #434B5C;\n",
              "      box-shadow: 0px 1px 3px 1px rgba(0, 0, 0, 0.15);\n",
              "      filter: drop-shadow(0px 1px 2px rgba(0, 0, 0, 0.3));\n",
              "      fill: #FFFFFF;\n",
              "    }\n",
              "  </style>\n",
              "\n",
              "      <script>\n",
              "        const buttonEl =\n",
              "          document.querySelector('#df-cb90ff2b-28a4-4766-b7a1-ee9709c71735 button.colab-df-convert');\n",
              "        buttonEl.style.display =\n",
              "          google.colab.kernel.accessAllowed ? 'block' : 'none';\n",
              "\n",
              "        async function convertToInteractive(key) {\n",
              "          const element = document.querySelector('#df-cb90ff2b-28a4-4766-b7a1-ee9709c71735');\n",
              "          const dataTable =\n",
              "            await google.colab.kernel.invokeFunction('convertToInteractive',\n",
              "                                                     [key], {});\n",
              "          if (!dataTable) return;\n",
              "\n",
              "          const docLinkHtml = 'Like what you see? Visit the ' +\n",
              "            '<a target=\"_blank\" href=https://colab.research.google.com/notebooks/data_table.ipynb>data table notebook</a>'\n",
              "            + ' to learn more about interactive tables.';\n",
              "          element.innerHTML = '';\n",
              "          dataTable['output_type'] = 'display_data';\n",
              "          await google.colab.output.renderOutput(dataTable, element);\n",
              "          const docLink = document.createElement('div');\n",
              "          docLink.innerHTML = docLinkHtml;\n",
              "          element.appendChild(docLink);\n",
              "        }\n",
              "      </script>\n",
              "    </div>\n",
              "  </div>\n",
              "  "
            ]
          },
          "metadata": {},
          "execution_count": 8
        }
      ],
      "source": [
        "X_train"
      ]
    },
    {
      "cell_type": "code",
      "execution_count": 9,
      "metadata": {
        "id": "HTzJ1WB2aMW9"
      },
      "outputs": [],
      "source": [
        "X_train.to_csv(\"/content/drive/MyDrive/Econsume.csv\")"
      ]
    },
    {
      "cell_type": "code",
      "execution_count": 10,
      "metadata": {
        "colab": {
          "base_uri": "https://localhost:8080/"
        },
        "id": "ZBOtJzRVB2Oz",
        "outputId": "d72a5561-d18d-4f3e-af92-c7309aed31ec"
      },
      "outputs": [
        {
          "output_type": "execute_result",
          "data": {
            "text/plain": [
              "['meter',\n",
              " 'primary_use',\n",
              " 'square_feet',\n",
              " 'floor_count',\n",
              " 'air_temperature',\n",
              " 'cloud_coverage',\n",
              " 'dew_temperature',\n",
              " 'hour',\n",
              " 'weekday',\n",
              " 'month']"
            ]
          },
          "metadata": {},
          "execution_count": 10
        }
      ],
      "source": [
        "list(X_train.columns)"
      ]
    },
    {
      "cell_type": "code",
      "execution_count": 11,
      "metadata": {
        "colab": {
          "base_uri": "https://localhost:8080/"
        },
        "id": "FRKueZmSV0FK",
        "outputId": "07474467-3aad-406d-9554-541d5d977864"
      },
      "outputs": [
        {
          "output_type": "stream",
          "name": "stdout",
          "text": [
            "<class 'pandas.core.frame.DataFrame'>\n",
            "RangeIndex: 97237 entries, 0 to 97236\n",
            "Data columns (total 11 columns):\n",
            " #   Column           Non-Null Count  Dtype  \n",
            "---  ------           --------------  -----  \n",
            " 0   meter            97237 non-null  uint8  \n",
            " 1   primary_use      97237 non-null  uint8  \n",
            " 2   square_feet      97237 non-null  uint32 \n",
            " 3   floor_count      97237 non-null  float32\n",
            " 4   air_temperature  97237 non-null  float32\n",
            " 5   cloud_coverage   97237 non-null  float32\n",
            " 6   dew_temperature  97237 non-null  float32\n",
            " 7   hour             97237 non-null  uint8  \n",
            " 8   weekday          97237 non-null  uint8  \n",
            " 9   month            97237 non-null  uint8  \n",
            " 10  meter_reading    97237 non-null  float32\n",
            "dtypes: float32(5), uint32(1), uint8(5)\n",
            "memory usage: 2.7 MB\n"
          ]
        }
      ],
      "source": [
        "X = pd.concat([X_train, y_train], axis=1)\n",
        "\n",
        "del X_train, y_train\n",
        "gc.collect()\n",
        "\n",
        "X.info()"
      ]
    },
    {
      "cell_type": "code",
      "execution_count": 12,
      "metadata": {
        "id": "FZkmozgSAwot"
      },
      "outputs": [],
      "source": [
        "Y = X['meter_reading']"
      ]
    },
    {
      "cell_type": "code",
      "execution_count": 13,
      "metadata": {
        "id": "XYznuLmyZkB1"
      },
      "outputs": [],
      "source": [
        "dropping = ['meter_reading']\n",
        "X.drop(dropping, axis=1, inplace=True)"
      ]
    },
    {
      "cell_type": "code",
      "execution_count": 14,
      "metadata": {
        "colab": {
          "base_uri": "https://localhost:8080/"
        },
        "id": "riMZ89_KZ6b2",
        "outputId": "1307ada1-bc19-438d-a1fc-cefe5635f4b9"
      },
      "outputs": [
        {
          "output_type": "execute_result",
          "data": {
            "text/plain": [
              "(97237, 10)"
            ]
          },
          "metadata": {},
          "execution_count": 14
        }
      ],
      "source": [
        "X.shape"
      ]
    },
    {
      "cell_type": "code",
      "execution_count": 15,
      "metadata": {
        "colab": {
          "base_uri": "https://localhost:8080/"
        },
        "id": "yq85E7s6KSVB",
        "outputId": "12249876-cc9c-409a-dcaa-bbcc3285f2eb"
      },
      "outputs": [
        {
          "output_type": "execute_result",
          "data": {
            "text/plain": [
              "0    5.247024\n",
              "1    4.091173\n",
              "2    5.901841\n",
              "3    0.000000\n",
              "4    0.000000\n",
              "Name: meter_reading, dtype: float32"
            ]
          },
          "metadata": {},
          "execution_count": 15
        }
      ],
      "source": [
        "Y.head()"
      ]
    },
    {
      "cell_type": "code",
      "execution_count": 16,
      "metadata": {
        "id": "3uqND60H_HNh"
      },
      "outputs": [],
      "source": [
        "from sklearn.model_selection import train_test_split\n",
        "\n",
        "X_train, X_test, y_train, y_test = train_test_split(X, Y, test_size=0.2)"
      ]
    },
    {
      "cell_type": "code",
      "execution_count": 17,
      "metadata": {
        "colab": {
          "base_uri": "https://localhost:8080/"
        },
        "id": "8T7g46E44dHT",
        "outputId": "e7de8a3a-44b5-4519-c958-59b80fb7c3ee"
      },
      "outputs": [
        {
          "output_type": "execute_result",
          "data": {
            "text/plain": [
              "(77789, 10)"
            ]
          },
          "metadata": {},
          "execution_count": 17
        }
      ],
      "source": [
        "X_train.shape"
      ]
    },
    {
      "cell_type": "code",
      "execution_count": 18,
      "metadata": {
        "colab": {
          "base_uri": "https://localhost:8080/"
        },
        "id": "pamv5tum2ahX",
        "outputId": "3ad35c91-6111-425a-f701-ef2071441d46"
      },
      "outputs": [
        {
          "output_type": "execute_result",
          "data": {
            "text/plain": [
              "(19448, 10)"
            ]
          },
          "metadata": {},
          "execution_count": 18
        }
      ],
      "source": [
        "X_test.shape"
      ]
    },
    {
      "cell_type": "code",
      "execution_count": 19,
      "metadata": {
        "colab": {
          "base_uri": "https://localhost:8080/"
        },
        "id": "tGQRtJTU2d7D",
        "outputId": "255d56e5-f0bb-47d9-c77f-1fa397754ed9"
      },
      "outputs": [
        {
          "output_type": "execute_result",
          "data": {
            "text/plain": [
              "(77789,)"
            ]
          },
          "metadata": {},
          "execution_count": 19
        }
      ],
      "source": [
        "y_train.shape"
      ]
    },
    {
      "cell_type": "code",
      "execution_count": 20,
      "metadata": {
        "colab": {
          "base_uri": "https://localhost:8080/"
        },
        "id": "N_UXOMI_2hZV",
        "outputId": "f0035f35-3da8-4848-ef94-492053a7d815"
      },
      "outputs": [
        {
          "output_type": "execute_result",
          "data": {
            "text/plain": [
              "(19448,)"
            ]
          },
          "metadata": {},
          "execution_count": 20
        }
      ],
      "source": [
        "y_test.shape"
      ]
    },
    {
      "cell_type": "code",
      "execution_count": 21,
      "metadata": {
        "id": "4HwWNuc12k4S"
      },
      "outputs": [],
      "source": [
        "from sklearn.preprocessing import StandardScaler\n",
        "\n",
        "scaler = StandardScaler()\n",
        "scaler.fit(X_train)\n",
        "x_train = scaler.transform(X_train)\n",
        "x_test = scaler.transform(X_test)"
      ]
    },
    {
      "cell_type": "markdown",
      "metadata": {
        "id": "zad3dEMK-Woc"
      },
      "source": [
        "**Decission Tree**"
      ]
    },
    {
      "cell_type": "code",
      "execution_count": 22,
      "metadata": {
        "colab": {
          "base_uri": "https://localhost:8080/",
          "height": 135
        },
        "id": "XMUIFpSa-av_",
        "outputId": "98f11448-fe56-4945-c980-7e5dd37f43c8"
      },
      "outputs": [
        {
          "output_type": "stream",
          "name": "stdout",
          "text": [
            "Fitting 3 folds for each of 6 candidates, totalling 18 fits\n"
          ]
        },
        {
          "output_type": "execute_result",
          "data": {
            "text/plain": [
              "GridSearchCV(cv=3, estimator=DecisionTreeRegressor(), n_jobs=-1,\n",
              "             param_grid={'max_depth': [3, 5, 7, 9, 11, 15]},\n",
              "             return_train_score=True, scoring='neg_mean_squared_error',\n",
              "             verbose=1)"
            ],
            "text/html": [
              "<style>#sk-container-id-1 {color: black;background-color: white;}#sk-container-id-1 pre{padding: 0;}#sk-container-id-1 div.sk-toggleable {background-color: white;}#sk-container-id-1 label.sk-toggleable__label {cursor: pointer;display: block;width: 100%;margin-bottom: 0;padding: 0.3em;box-sizing: border-box;text-align: center;}#sk-container-id-1 label.sk-toggleable__label-arrow:before {content: \"▸\";float: left;margin-right: 0.25em;color: #696969;}#sk-container-id-1 label.sk-toggleable__label-arrow:hover:before {color: black;}#sk-container-id-1 div.sk-estimator:hover label.sk-toggleable__label-arrow:before {color: black;}#sk-container-id-1 div.sk-toggleable__content {max-height: 0;max-width: 0;overflow: hidden;text-align: left;background-color: #f0f8ff;}#sk-container-id-1 div.sk-toggleable__content pre {margin: 0.2em;color: black;border-radius: 0.25em;background-color: #f0f8ff;}#sk-container-id-1 input.sk-toggleable__control:checked~div.sk-toggleable__content {max-height: 200px;max-width: 100%;overflow: auto;}#sk-container-id-1 input.sk-toggleable__control:checked~label.sk-toggleable__label-arrow:before {content: \"▾\";}#sk-container-id-1 div.sk-estimator input.sk-toggleable__control:checked~label.sk-toggleable__label {background-color: #d4ebff;}#sk-container-id-1 div.sk-label input.sk-toggleable__control:checked~label.sk-toggleable__label {background-color: #d4ebff;}#sk-container-id-1 input.sk-hidden--visually {border: 0;clip: rect(1px 1px 1px 1px);clip: rect(1px, 1px, 1px, 1px);height: 1px;margin: -1px;overflow: hidden;padding: 0;position: absolute;width: 1px;}#sk-container-id-1 div.sk-estimator {font-family: monospace;background-color: #f0f8ff;border: 1px dotted black;border-radius: 0.25em;box-sizing: border-box;margin-bottom: 0.5em;}#sk-container-id-1 div.sk-estimator:hover {background-color: #d4ebff;}#sk-container-id-1 div.sk-parallel-item::after {content: \"\";width: 100%;border-bottom: 1px solid gray;flex-grow: 1;}#sk-container-id-1 div.sk-label:hover label.sk-toggleable__label {background-color: #d4ebff;}#sk-container-id-1 div.sk-serial::before {content: \"\";position: absolute;border-left: 1px solid gray;box-sizing: border-box;top: 0;bottom: 0;left: 50%;z-index: 0;}#sk-container-id-1 div.sk-serial {display: flex;flex-direction: column;align-items: center;background-color: white;padding-right: 0.2em;padding-left: 0.2em;position: relative;}#sk-container-id-1 div.sk-item {position: relative;z-index: 1;}#sk-container-id-1 div.sk-parallel {display: flex;align-items: stretch;justify-content: center;background-color: white;position: relative;}#sk-container-id-1 div.sk-item::before, #sk-container-id-1 div.sk-parallel-item::before {content: \"\";position: absolute;border-left: 1px solid gray;box-sizing: border-box;top: 0;bottom: 0;left: 50%;z-index: -1;}#sk-container-id-1 div.sk-parallel-item {display: flex;flex-direction: column;z-index: 1;position: relative;background-color: white;}#sk-container-id-1 div.sk-parallel-item:first-child::after {align-self: flex-end;width: 50%;}#sk-container-id-1 div.sk-parallel-item:last-child::after {align-self: flex-start;width: 50%;}#sk-container-id-1 div.sk-parallel-item:only-child::after {width: 0;}#sk-container-id-1 div.sk-dashed-wrapped {border: 1px dashed gray;margin: 0 0.4em 0.5em 0.4em;box-sizing: border-box;padding-bottom: 0.4em;background-color: white;}#sk-container-id-1 div.sk-label label {font-family: monospace;font-weight: bold;display: inline-block;line-height: 1.2em;}#sk-container-id-1 div.sk-label-container {text-align: center;}#sk-container-id-1 div.sk-container {/* jupyter's `normalize.less` sets `[hidden] { display: none; }` but bootstrap.min.css set `[hidden] { display: none !important; }` so we also need the `!important` here to be able to override the default hidden behavior on the sphinx rendered scikit-learn.org. See: https://github.com/scikit-learn/scikit-learn/issues/21755 */display: inline-block !important;position: relative;}#sk-container-id-1 div.sk-text-repr-fallback {display: none;}</style><div id=\"sk-container-id-1\" class=\"sk-top-container\"><div class=\"sk-text-repr-fallback\"><pre>GridSearchCV(cv=3, estimator=DecisionTreeRegressor(), n_jobs=-1,\n",
              "             param_grid={&#x27;max_depth&#x27;: [3, 5, 7, 9, 11, 15]},\n",
              "             return_train_score=True, scoring=&#x27;neg_mean_squared_error&#x27;,\n",
              "             verbose=1)</pre><b>In a Jupyter environment, please rerun this cell to show the HTML representation or trust the notebook. <br />On GitHub, the HTML representation is unable to render, please try loading this page with nbviewer.org.</b></div><div class=\"sk-container\" hidden><div class=\"sk-item sk-dashed-wrapped\"><div class=\"sk-label-container\"><div class=\"sk-label sk-toggleable\"><input class=\"sk-toggleable__control sk-hidden--visually\" id=\"sk-estimator-id-1\" type=\"checkbox\" ><label for=\"sk-estimator-id-1\" class=\"sk-toggleable__label sk-toggleable__label-arrow\">GridSearchCV</label><div class=\"sk-toggleable__content\"><pre>GridSearchCV(cv=3, estimator=DecisionTreeRegressor(), n_jobs=-1,\n",
              "             param_grid={&#x27;max_depth&#x27;: [3, 5, 7, 9, 11, 15]},\n",
              "             return_train_score=True, scoring=&#x27;neg_mean_squared_error&#x27;,\n",
              "             verbose=1)</pre></div></div></div><div class=\"sk-parallel\"><div class=\"sk-parallel-item\"><div class=\"sk-item\"><div class=\"sk-label-container\"><div class=\"sk-label sk-toggleable\"><input class=\"sk-toggleable__control sk-hidden--visually\" id=\"sk-estimator-id-2\" type=\"checkbox\" ><label for=\"sk-estimator-id-2\" class=\"sk-toggleable__label sk-toggleable__label-arrow\">estimator: DecisionTreeRegressor</label><div class=\"sk-toggleable__content\"><pre>DecisionTreeRegressor()</pre></div></div></div><div class=\"sk-serial\"><div class=\"sk-item\"><div class=\"sk-estimator sk-toggleable\"><input class=\"sk-toggleable__control sk-hidden--visually\" id=\"sk-estimator-id-3\" type=\"checkbox\" ><label for=\"sk-estimator-id-3\" class=\"sk-toggleable__label sk-toggleable__label-arrow\">DecisionTreeRegressor</label><div class=\"sk-toggleable__content\"><pre>DecisionTreeRegressor()</pre></div></div></div></div></div></div></div></div></div></div>"
            ]
          },
          "metadata": {},
          "execution_count": 22
        }
      ],
      "source": [
        "parameters = {'max_depth': [3,5,7,9,11,15]}\n",
        "\n",
        "\n",
        "decission_tree = GridSearchCV(estimator = DecisionTreeRegressor(),\n",
        "                        param_grid = parameters,\n",
        "                        cv = 3, \n",
        "                        scoring = 'neg_mean_squared_error',\n",
        "                        verbose = 1,\n",
        "                        return_train_score = True,\n",
        "                        n_jobs = -1)\n",
        "\n",
        "decission_tree.fit(x_train, y_train)"
      ]
    },
    {
      "cell_type": "code",
      "execution_count": 23,
      "metadata": {
        "colab": {
          "base_uri": "https://localhost:8080/"
        },
        "id": "XZzrq0rb-cAc",
        "outputId": "aa1a626e-2672-4592-c718-2fb47b52287d"
      },
      "outputs": [
        {
          "output_type": "stream",
          "name": "stdout",
          "text": [
            "Best Decision Tree Estimator  DecisionTreeRegressor(max_depth=11)\n",
            "Best Decision Tree Paramteres are :  {'max_depth': 11}\n"
          ]
        }
      ],
      "source": [
        "print(\"Best Decision Tree Estimator \",decission_tree.best_estimator_)\n",
        "print(\"Best Decision Tree Paramteres are : \", decission_tree.best_params_)"
      ]
    },
    {
      "cell_type": "code",
      "execution_count": 24,
      "metadata": {
        "colab": {
          "base_uri": "https://localhost:8080/",
          "height": 75
        },
        "id": "WtYJRT8y-gBf",
        "outputId": "5513a337-c881-4e1c-d8d8-ef06f6feb272"
      },
      "outputs": [
        {
          "output_type": "execute_result",
          "data": {
            "text/plain": [
              "DecisionTreeRegressor(max_depth=15)"
            ],
            "text/html": [
              "<style>#sk-container-id-2 {color: black;background-color: white;}#sk-container-id-2 pre{padding: 0;}#sk-container-id-2 div.sk-toggleable {background-color: white;}#sk-container-id-2 label.sk-toggleable__label {cursor: pointer;display: block;width: 100%;margin-bottom: 0;padding: 0.3em;box-sizing: border-box;text-align: center;}#sk-container-id-2 label.sk-toggleable__label-arrow:before {content: \"▸\";float: left;margin-right: 0.25em;color: #696969;}#sk-container-id-2 label.sk-toggleable__label-arrow:hover:before {color: black;}#sk-container-id-2 div.sk-estimator:hover label.sk-toggleable__label-arrow:before {color: black;}#sk-container-id-2 div.sk-toggleable__content {max-height: 0;max-width: 0;overflow: hidden;text-align: left;background-color: #f0f8ff;}#sk-container-id-2 div.sk-toggleable__content pre {margin: 0.2em;color: black;border-radius: 0.25em;background-color: #f0f8ff;}#sk-container-id-2 input.sk-toggleable__control:checked~div.sk-toggleable__content {max-height: 200px;max-width: 100%;overflow: auto;}#sk-container-id-2 input.sk-toggleable__control:checked~label.sk-toggleable__label-arrow:before {content: \"▾\";}#sk-container-id-2 div.sk-estimator input.sk-toggleable__control:checked~label.sk-toggleable__label {background-color: #d4ebff;}#sk-container-id-2 div.sk-label input.sk-toggleable__control:checked~label.sk-toggleable__label {background-color: #d4ebff;}#sk-container-id-2 input.sk-hidden--visually {border: 0;clip: rect(1px 1px 1px 1px);clip: rect(1px, 1px, 1px, 1px);height: 1px;margin: -1px;overflow: hidden;padding: 0;position: absolute;width: 1px;}#sk-container-id-2 div.sk-estimator {font-family: monospace;background-color: #f0f8ff;border: 1px dotted black;border-radius: 0.25em;box-sizing: border-box;margin-bottom: 0.5em;}#sk-container-id-2 div.sk-estimator:hover {background-color: #d4ebff;}#sk-container-id-2 div.sk-parallel-item::after {content: \"\";width: 100%;border-bottom: 1px solid gray;flex-grow: 1;}#sk-container-id-2 div.sk-label:hover label.sk-toggleable__label {background-color: #d4ebff;}#sk-container-id-2 div.sk-serial::before {content: \"\";position: absolute;border-left: 1px solid gray;box-sizing: border-box;top: 0;bottom: 0;left: 50%;z-index: 0;}#sk-container-id-2 div.sk-serial {display: flex;flex-direction: column;align-items: center;background-color: white;padding-right: 0.2em;padding-left: 0.2em;position: relative;}#sk-container-id-2 div.sk-item {position: relative;z-index: 1;}#sk-container-id-2 div.sk-parallel {display: flex;align-items: stretch;justify-content: center;background-color: white;position: relative;}#sk-container-id-2 div.sk-item::before, #sk-container-id-2 div.sk-parallel-item::before {content: \"\";position: absolute;border-left: 1px solid gray;box-sizing: border-box;top: 0;bottom: 0;left: 50%;z-index: -1;}#sk-container-id-2 div.sk-parallel-item {display: flex;flex-direction: column;z-index: 1;position: relative;background-color: white;}#sk-container-id-2 div.sk-parallel-item:first-child::after {align-self: flex-end;width: 50%;}#sk-container-id-2 div.sk-parallel-item:last-child::after {align-self: flex-start;width: 50%;}#sk-container-id-2 div.sk-parallel-item:only-child::after {width: 0;}#sk-container-id-2 div.sk-dashed-wrapped {border: 1px dashed gray;margin: 0 0.4em 0.5em 0.4em;box-sizing: border-box;padding-bottom: 0.4em;background-color: white;}#sk-container-id-2 div.sk-label label {font-family: monospace;font-weight: bold;display: inline-block;line-height: 1.2em;}#sk-container-id-2 div.sk-label-container {text-align: center;}#sk-container-id-2 div.sk-container {/* jupyter's `normalize.less` sets `[hidden] { display: none; }` but bootstrap.min.css set `[hidden] { display: none !important; }` so we also need the `!important` here to be able to override the default hidden behavior on the sphinx rendered scikit-learn.org. See: https://github.com/scikit-learn/scikit-learn/issues/21755 */display: inline-block !important;position: relative;}#sk-container-id-2 div.sk-text-repr-fallback {display: none;}</style><div id=\"sk-container-id-2\" class=\"sk-top-container\"><div class=\"sk-text-repr-fallback\"><pre>DecisionTreeRegressor(max_depth=15)</pre><b>In a Jupyter environment, please rerun this cell to show the HTML representation or trust the notebook. <br />On GitHub, the HTML representation is unable to render, please try loading this page with nbviewer.org.</b></div><div class=\"sk-container\" hidden><div class=\"sk-item\"><div class=\"sk-estimator sk-toggleable\"><input class=\"sk-toggleable__control sk-hidden--visually\" id=\"sk-estimator-id-4\" type=\"checkbox\" checked><label for=\"sk-estimator-id-4\" class=\"sk-toggleable__label sk-toggleable__label-arrow\">DecisionTreeRegressor</label><div class=\"sk-toggleable__content\"><pre>DecisionTreeRegressor(max_depth=15)</pre></div></div></div></div></div>"
            ]
          },
          "metadata": {},
          "execution_count": 24
        }
      ],
      "source": [
        "DecissionTree = DecisionTreeRegressor(max_depth=15)\n",
        "DecissionTree.fit(x_train, y_train)"
      ]
    },
    {
      "cell_type": "markdown",
      "metadata": {
        "id": "Vb_GVz5y8t98"
      },
      "source": [
        "**SVM**"
      ]
    },
    {
      "cell_type": "code",
      "execution_count": 25,
      "metadata": {
        "colab": {
          "base_uri": "https://localhost:8080/",
          "height": 109
        },
        "id": "NNXCuf1_5QFl",
        "outputId": "6acaa4b2-ed27-4349-ea24-0b6817decf40"
      },
      "outputs": [
        {
          "output_type": "stream",
          "name": "stderr",
          "text": [
            "/usr/local/lib/python3.8/dist-packages/sklearn/svm/_base.py:1225: ConvergenceWarning: Liblinear failed to converge, increase the number of iterations.\n",
            "  warnings.warn(\n"
          ]
        },
        {
          "output_type": "execute_result",
          "data": {
            "text/plain": [
              "LinearSVR(random_state=0, tol=1e-05)"
            ],
            "text/html": [
              "<style>#sk-container-id-3 {color: black;background-color: white;}#sk-container-id-3 pre{padding: 0;}#sk-container-id-3 div.sk-toggleable {background-color: white;}#sk-container-id-3 label.sk-toggleable__label {cursor: pointer;display: block;width: 100%;margin-bottom: 0;padding: 0.3em;box-sizing: border-box;text-align: center;}#sk-container-id-3 label.sk-toggleable__label-arrow:before {content: \"▸\";float: left;margin-right: 0.25em;color: #696969;}#sk-container-id-3 label.sk-toggleable__label-arrow:hover:before {color: black;}#sk-container-id-3 div.sk-estimator:hover label.sk-toggleable__label-arrow:before {color: black;}#sk-container-id-3 div.sk-toggleable__content {max-height: 0;max-width: 0;overflow: hidden;text-align: left;background-color: #f0f8ff;}#sk-container-id-3 div.sk-toggleable__content pre {margin: 0.2em;color: black;border-radius: 0.25em;background-color: #f0f8ff;}#sk-container-id-3 input.sk-toggleable__control:checked~div.sk-toggleable__content {max-height: 200px;max-width: 100%;overflow: auto;}#sk-container-id-3 input.sk-toggleable__control:checked~label.sk-toggleable__label-arrow:before {content: \"▾\";}#sk-container-id-3 div.sk-estimator input.sk-toggleable__control:checked~label.sk-toggleable__label {background-color: #d4ebff;}#sk-container-id-3 div.sk-label input.sk-toggleable__control:checked~label.sk-toggleable__label {background-color: #d4ebff;}#sk-container-id-3 input.sk-hidden--visually {border: 0;clip: rect(1px 1px 1px 1px);clip: rect(1px, 1px, 1px, 1px);height: 1px;margin: -1px;overflow: hidden;padding: 0;position: absolute;width: 1px;}#sk-container-id-3 div.sk-estimator {font-family: monospace;background-color: #f0f8ff;border: 1px dotted black;border-radius: 0.25em;box-sizing: border-box;margin-bottom: 0.5em;}#sk-container-id-3 div.sk-estimator:hover {background-color: #d4ebff;}#sk-container-id-3 div.sk-parallel-item::after {content: \"\";width: 100%;border-bottom: 1px solid gray;flex-grow: 1;}#sk-container-id-3 div.sk-label:hover label.sk-toggleable__label {background-color: #d4ebff;}#sk-container-id-3 div.sk-serial::before {content: \"\";position: absolute;border-left: 1px solid gray;box-sizing: border-box;top: 0;bottom: 0;left: 50%;z-index: 0;}#sk-container-id-3 div.sk-serial {display: flex;flex-direction: column;align-items: center;background-color: white;padding-right: 0.2em;padding-left: 0.2em;position: relative;}#sk-container-id-3 div.sk-item {position: relative;z-index: 1;}#sk-container-id-3 div.sk-parallel {display: flex;align-items: stretch;justify-content: center;background-color: white;position: relative;}#sk-container-id-3 div.sk-item::before, #sk-container-id-3 div.sk-parallel-item::before {content: \"\";position: absolute;border-left: 1px solid gray;box-sizing: border-box;top: 0;bottom: 0;left: 50%;z-index: -1;}#sk-container-id-3 div.sk-parallel-item {display: flex;flex-direction: column;z-index: 1;position: relative;background-color: white;}#sk-container-id-3 div.sk-parallel-item:first-child::after {align-self: flex-end;width: 50%;}#sk-container-id-3 div.sk-parallel-item:last-child::after {align-self: flex-start;width: 50%;}#sk-container-id-3 div.sk-parallel-item:only-child::after {width: 0;}#sk-container-id-3 div.sk-dashed-wrapped {border: 1px dashed gray;margin: 0 0.4em 0.5em 0.4em;box-sizing: border-box;padding-bottom: 0.4em;background-color: white;}#sk-container-id-3 div.sk-label label {font-family: monospace;font-weight: bold;display: inline-block;line-height: 1.2em;}#sk-container-id-3 div.sk-label-container {text-align: center;}#sk-container-id-3 div.sk-container {/* jupyter's `normalize.less` sets `[hidden] { display: none; }` but bootstrap.min.css set `[hidden] { display: none !important; }` so we also need the `!important` here to be able to override the default hidden behavior on the sphinx rendered scikit-learn.org. See: https://github.com/scikit-learn/scikit-learn/issues/21755 */display: inline-block !important;position: relative;}#sk-container-id-3 div.sk-text-repr-fallback {display: none;}</style><div id=\"sk-container-id-3\" class=\"sk-top-container\"><div class=\"sk-text-repr-fallback\"><pre>LinearSVR(random_state=0, tol=1e-05)</pre><b>In a Jupyter environment, please rerun this cell to show the HTML representation or trust the notebook. <br />On GitHub, the HTML representation is unable to render, please try loading this page with nbviewer.org.</b></div><div class=\"sk-container\" hidden><div class=\"sk-item\"><div class=\"sk-estimator sk-toggleable\"><input class=\"sk-toggleable__control sk-hidden--visually\" id=\"sk-estimator-id-5\" type=\"checkbox\" checked><label for=\"sk-estimator-id-5\" class=\"sk-toggleable__label sk-toggleable__label-arrow\">LinearSVR</label><div class=\"sk-toggleable__content\"><pre>LinearSVR(random_state=0, tol=1e-05)</pre></div></div></div></div></div>"
            ]
          },
          "metadata": {},
          "execution_count": 25
        }
      ],
      "source": [
        "from sklearn.metrics import mean_squared_error,mean_absolute_error\n",
        "from sklearn.svm import LinearSVR\n",
        "lsvr = LinearSVR(random_state=0, tol=1e-5)\n",
        "lsvr.fit(x_train,y_train)"
      ]
    },
    {
      "cell_type": "code",
      "execution_count": 26,
      "metadata": {
        "id": "xiS8aS8D8w53"
      },
      "outputs": [],
      "source": [
        "from sklearn import svm\n",
        "\n",
        "svr_model = svm.SVR(gamma = 'scale')\n",
        "fit_model = svr_model.fit(x_train , y_train)"
      ]
    },
    {
      "cell_type": "markdown",
      "metadata": {
        "id": "NsnGH-DJ9rpy"
      },
      "source": [
        "**Ensemble Learner**"
      ]
    },
    {
      "cell_type": "code",
      "execution_count": 27,
      "metadata": {
        "id": "Y4uggorK9u1x"
      },
      "outputs": [],
      "source": [
        "estimators = [\n",
        "              #('lsvr', LinearSVR()),\n",
        "              ('svr_model', SVR()),\n",
        "              ('decission_tree', DecisionTreeRegressor())\n",
        "              ]"
      ]
    },
    {
      "cell_type": "code",
      "execution_count": 28,
      "metadata": {
        "id": "m9BMOl5e9vpU"
      },
      "outputs": [],
      "source": [
        "final_estimator = GradientBoostingRegressor(\n",
        "        n_estimators=200, subsample=0.5, min_samples_leaf=25, max_features=5,\n",
        "        random_state=42)\n",
        "Ensemble_model = StackingRegressor(\n",
        "      estimators=estimators,\n",
        "      final_estimator=final_estimator)"
      ]
    },
    {
      "cell_type": "code",
      "execution_count": 29,
      "metadata": {
        "colab": {
          "base_uri": "https://localhost:8080/",
          "height": 164
        },
        "id": "3Kck7n8_9zcN",
        "outputId": "6cd42c96-72fd-450f-f4df-16d2f366fa9f"
      },
      "outputs": [
        {
          "output_type": "execute_result",
          "data": {
            "text/plain": [
              "StackingRegressor(estimators=[('svr_model', SVR()),\n",
              "                              ('decission_tree', DecisionTreeRegressor())],\n",
              "                  final_estimator=GradientBoostingRegressor(max_features=5,\n",
              "                                                            min_samples_leaf=25,\n",
              "                                                            n_estimators=200,\n",
              "                                                            random_state=42,\n",
              "                                                            subsample=0.5))"
            ],
            "text/html": [
              "<style>#sk-container-id-4 {color: black;background-color: white;}#sk-container-id-4 pre{padding: 0;}#sk-container-id-4 div.sk-toggleable {background-color: white;}#sk-container-id-4 label.sk-toggleable__label {cursor: pointer;display: block;width: 100%;margin-bottom: 0;padding: 0.3em;box-sizing: border-box;text-align: center;}#sk-container-id-4 label.sk-toggleable__label-arrow:before {content: \"▸\";float: left;margin-right: 0.25em;color: #696969;}#sk-container-id-4 label.sk-toggleable__label-arrow:hover:before {color: black;}#sk-container-id-4 div.sk-estimator:hover label.sk-toggleable__label-arrow:before {color: black;}#sk-container-id-4 div.sk-toggleable__content {max-height: 0;max-width: 0;overflow: hidden;text-align: left;background-color: #f0f8ff;}#sk-container-id-4 div.sk-toggleable__content pre {margin: 0.2em;color: black;border-radius: 0.25em;background-color: #f0f8ff;}#sk-container-id-4 input.sk-toggleable__control:checked~div.sk-toggleable__content {max-height: 200px;max-width: 100%;overflow: auto;}#sk-container-id-4 input.sk-toggleable__control:checked~label.sk-toggleable__label-arrow:before {content: \"▾\";}#sk-container-id-4 div.sk-estimator input.sk-toggleable__control:checked~label.sk-toggleable__label {background-color: #d4ebff;}#sk-container-id-4 div.sk-label input.sk-toggleable__control:checked~label.sk-toggleable__label {background-color: #d4ebff;}#sk-container-id-4 input.sk-hidden--visually {border: 0;clip: rect(1px 1px 1px 1px);clip: rect(1px, 1px, 1px, 1px);height: 1px;margin: -1px;overflow: hidden;padding: 0;position: absolute;width: 1px;}#sk-container-id-4 div.sk-estimator {font-family: monospace;background-color: #f0f8ff;border: 1px dotted black;border-radius: 0.25em;box-sizing: border-box;margin-bottom: 0.5em;}#sk-container-id-4 div.sk-estimator:hover {background-color: #d4ebff;}#sk-container-id-4 div.sk-parallel-item::after {content: \"\";width: 100%;border-bottom: 1px solid gray;flex-grow: 1;}#sk-container-id-4 div.sk-label:hover label.sk-toggleable__label {background-color: #d4ebff;}#sk-container-id-4 div.sk-serial::before {content: \"\";position: absolute;border-left: 1px solid gray;box-sizing: border-box;top: 0;bottom: 0;left: 50%;z-index: 0;}#sk-container-id-4 div.sk-serial {display: flex;flex-direction: column;align-items: center;background-color: white;padding-right: 0.2em;padding-left: 0.2em;position: relative;}#sk-container-id-4 div.sk-item {position: relative;z-index: 1;}#sk-container-id-4 div.sk-parallel {display: flex;align-items: stretch;justify-content: center;background-color: white;position: relative;}#sk-container-id-4 div.sk-item::before, #sk-container-id-4 div.sk-parallel-item::before {content: \"\";position: absolute;border-left: 1px solid gray;box-sizing: border-box;top: 0;bottom: 0;left: 50%;z-index: -1;}#sk-container-id-4 div.sk-parallel-item {display: flex;flex-direction: column;z-index: 1;position: relative;background-color: white;}#sk-container-id-4 div.sk-parallel-item:first-child::after {align-self: flex-end;width: 50%;}#sk-container-id-4 div.sk-parallel-item:last-child::after {align-self: flex-start;width: 50%;}#sk-container-id-4 div.sk-parallel-item:only-child::after {width: 0;}#sk-container-id-4 div.sk-dashed-wrapped {border: 1px dashed gray;margin: 0 0.4em 0.5em 0.4em;box-sizing: border-box;padding-bottom: 0.4em;background-color: white;}#sk-container-id-4 div.sk-label label {font-family: monospace;font-weight: bold;display: inline-block;line-height: 1.2em;}#sk-container-id-4 div.sk-label-container {text-align: center;}#sk-container-id-4 div.sk-container {/* jupyter's `normalize.less` sets `[hidden] { display: none; }` but bootstrap.min.css set `[hidden] { display: none !important; }` so we also need the `!important` here to be able to override the default hidden behavior on the sphinx rendered scikit-learn.org. See: https://github.com/scikit-learn/scikit-learn/issues/21755 */display: inline-block !important;position: relative;}#sk-container-id-4 div.sk-text-repr-fallback {display: none;}</style><div id=\"sk-container-id-4\" class=\"sk-top-container\"><div class=\"sk-text-repr-fallback\"><pre>StackingRegressor(estimators=[(&#x27;svr_model&#x27;, SVR()),\n",
              "                              (&#x27;decission_tree&#x27;, DecisionTreeRegressor())],\n",
              "                  final_estimator=GradientBoostingRegressor(max_features=5,\n",
              "                                                            min_samples_leaf=25,\n",
              "                                                            n_estimators=200,\n",
              "                                                            random_state=42,\n",
              "                                                            subsample=0.5))</pre><b>In a Jupyter environment, please rerun this cell to show the HTML representation or trust the notebook. <br />On GitHub, the HTML representation is unable to render, please try loading this page with nbviewer.org.</b></div><div class=\"sk-container\" hidden><div class=\"sk-item sk-dashed-wrapped\"><div class=\"sk-label-container\"><div class=\"sk-label sk-toggleable\"><input class=\"sk-toggleable__control sk-hidden--visually\" id=\"sk-estimator-id-6\" type=\"checkbox\" ><label for=\"sk-estimator-id-6\" class=\"sk-toggleable__label sk-toggleable__label-arrow\">StackingRegressor</label><div class=\"sk-toggleable__content\"><pre>StackingRegressor(estimators=[(&#x27;svr_model&#x27;, SVR()),\n",
              "                              (&#x27;decission_tree&#x27;, DecisionTreeRegressor())],\n",
              "                  final_estimator=GradientBoostingRegressor(max_features=5,\n",
              "                                                            min_samples_leaf=25,\n",
              "                                                            n_estimators=200,\n",
              "                                                            random_state=42,\n",
              "                                                            subsample=0.5))</pre></div></div></div><div class=\"sk-serial\"><div class=\"sk-item\"><div class=\"sk-parallel\"><div class=\"sk-parallel-item\"><div class=\"sk-item\"><div class=\"sk-label-container\"><div class=\"sk-label sk-toggleable\"><label>svr_model</label></div></div><div class=\"sk-serial\"><div class=\"sk-item\"><div class=\"sk-estimator sk-toggleable\"><input class=\"sk-toggleable__control sk-hidden--visually\" id=\"sk-estimator-id-7\" type=\"checkbox\" ><label for=\"sk-estimator-id-7\" class=\"sk-toggleable__label sk-toggleable__label-arrow\">SVR</label><div class=\"sk-toggleable__content\"><pre>SVR()</pre></div></div></div></div></div></div><div class=\"sk-parallel-item\"><div class=\"sk-item\"><div class=\"sk-label-container\"><div class=\"sk-label sk-toggleable\"><label>decission_tree</label></div></div><div class=\"sk-serial\"><div class=\"sk-item\"><div class=\"sk-estimator sk-toggleable\"><input class=\"sk-toggleable__control sk-hidden--visually\" id=\"sk-estimator-id-8\" type=\"checkbox\" ><label for=\"sk-estimator-id-8\" class=\"sk-toggleable__label sk-toggleable__label-arrow\">DecisionTreeRegressor</label><div class=\"sk-toggleable__content\"><pre>DecisionTreeRegressor()</pre></div></div></div></div></div></div></div></div><div class=\"sk-item\"><div class=\"sk-parallel\"><div class=\"sk-parallel-item\"><div class=\"sk-item\"><div class=\"sk-label-container\"><div class=\"sk-label sk-toggleable\"><label>final_estimator</label></div></div><div class=\"sk-serial\"><div class=\"sk-item\"><div class=\"sk-estimator sk-toggleable\"><input class=\"sk-toggleable__control sk-hidden--visually\" id=\"sk-estimator-id-9\" type=\"checkbox\" ><label for=\"sk-estimator-id-9\" class=\"sk-toggleable__label sk-toggleable__label-arrow\">GradientBoostingRegressor</label><div class=\"sk-toggleable__content\"><pre>GradientBoostingRegressor(max_features=5, min_samples_leaf=25, n_estimators=200,\n",
              "                          random_state=42, subsample=0.5)</pre></div></div></div></div></div></div></div></div></div></div></div></div>"
            ]
          },
          "metadata": {},
          "execution_count": 29
        }
      ],
      "source": [
        "Ensemble_model.fit(x_train, y_train)"
      ]
    },
    {
      "cell_type": "markdown",
      "metadata": {
        "id": "TBS7VzZiDaR-"
      },
      "source": [
        "**Model Evaluation and Selection**"
      ]
    },
    {
      "cell_type": "code",
      "execution_count": 30,
      "metadata": {
        "id": "ORAU7Q9JDZV4"
      },
      "outputs": [],
      "source": [
        "from sklearn.model_selection import TimeSeriesSplit\n",
        "from sklearn.metrics import mean_squared_error, r2_score\n",
        "from sklearn.model_selection import cross_val_score, cross_val_predict\n",
        "from sklearn import metrics"
      ]
    },
    {
      "cell_type": "code",
      "execution_count": 31,
      "metadata": {
        "id": "tBrmNOB_DhoU"
      },
      "outputs": [],
      "source": [
        "def evaluate(model, test_features, test_labels):\n",
        "    predictions = model.predict(test_features)\n",
        "    errors = abs(predictions - test_labels)\n",
        "    adds = abs(predictions + test_labels)/2\n",
        "    smape = np.mean(errors / adds) * 100\n",
        "    mape = 100 * np.mean(errors / test_labels)\n",
        "    r_score = 100*r2_score(test_labels,predictions)\n",
        "    accuracy = 100 - smape\n",
        "    print(model,'\\n')\n",
        "    print('Average Error(Mean Absolute Error)       : {:0.4f} degrees'.format(np.mean(errors)))\n",
        "    print('Variance score R^2  : {:0.2f}%' .format(r_score))\n",
        "    print('Accuracy            : {:0.2f}%\\n'.format(accuracy)) "
      ]
    },
    {
      "cell_type": "code",
      "execution_count": 32,
      "metadata": {
        "colab": {
          "base_uri": "https://localhost:8080/"
        },
        "id": "axDmOYWvDlcS",
        "outputId": "3874117e-311d-4d77-9d3f-d502e3382ac9"
      },
      "outputs": [
        {
          "output_type": "stream",
          "name": "stdout",
          "text": [
            "LinearSVR(random_state=0, tol=1e-05) \n",
            "\n",
            "Average Error(Mean Absolute Error)       : 1.4024 degrees\n",
            "Variance score R^2  : 9.88%\n",
            "Accuracy            : 59.29%\n",
            "\n",
            "SVR() \n",
            "\n",
            "Average Error(Mean Absolute Error)       : 1.0103 degrees\n",
            "Variance score R^2  : 41.56%\n",
            "Accuracy            : 66.49%\n",
            "\n",
            "GridSearchCV(cv=3, estimator=DecisionTreeRegressor(), n_jobs=-1,\n",
            "             param_grid={'max_depth': [3, 5, 7, 9, 11, 15]},\n",
            "             return_train_score=True, scoring='neg_mean_squared_error',\n",
            "             verbose=1) \n",
            "\n",
            "Average Error(Mean Absolute Error)       : 0.6623 degrees\n",
            "Variance score R^2  : 66.53%\n",
            "Accuracy            : 75.00%\n",
            "\n",
            "StackingRegressor(estimators=[('svr_model', SVR()),\n",
            "                              ('decission_tree', DecisionTreeRegressor())],\n",
            "                  final_estimator=GradientBoostingRegressor(max_features=5,\n",
            "                                                            min_samples_leaf=25,\n",
            "                                                            n_estimators=200,\n",
            "                                                            random_state=42,\n",
            "                                                            subsample=0.5)) \n",
            "\n",
            "Average Error(Mean Absolute Error)       : 0.5905 degrees\n",
            "Variance score R^2  : 71.32%\n",
            "Accuracy            : 75.64%\n",
            "\n"
          ]
        }
      ],
      "source": [
        "evaluate(lsvr, x_test, y_test)\n",
        "evaluate(svr_model, x_test, y_test)\n",
        "evaluate(decission_tree, x_test, y_test)\n",
        "evaluate(Ensemble_model, x_test, y_test)"
      ]
    },
    {
      "cell_type": "code",
      "execution_count": 33,
      "metadata": {
        "id": "LTLc2yETjyx3"
      },
      "outputs": [],
      "source": [
        "y4_pred = Ensemble_model.predict(x_test)"
      ]
    },
    {
      "cell_type": "code",
      "execution_count": 34,
      "metadata": {
        "colab": {
          "base_uri": "https://localhost:8080/",
          "height": 501
        },
        "id": "2jCsOW-8Dxlu",
        "outputId": "4f872b00-abbf-4129-e0d0-49e67275e275"
      },
      "outputs": [
        {
          "output_type": "execute_result",
          "data": {
            "text/plain": [
              "<matplotlib.legend.Legend at 0x7f76fd596a30>"
            ]
          },
          "metadata": {},
          "execution_count": 34
        },
        {
          "output_type": "display_data",
          "data": {
            "text/plain": [
              "<Figure size 1440x576 with 1 Axes>"
            ],
            "image/png": "[encoded data removed]"
          },
          "metadata": {
            "needs_background": "light"
          }
        }
      ],
      "source": [
        "import matplotlib.pyplot as plt\n",
        "fig = plt.figure(figsize=(20,8))\n",
        "plt.plot(y_test[:100].values,label='Target value',color='b')\n",
        "plt.plot(y4_pred[:100],label='Ensemble Learner ', linestyle='--', color='g')\n",
        "\n",
        "plt.legend(loc=1)"
      ]
    },
    {
      "cell_type": "code",
      "execution_count": 35,
      "metadata": {
        "id": "XxXruHsLD3xZ"
      },
      "outputs": [],
      "source": [
        "# save the file for deployment\n",
        "\n",
        "import pickle\n",
        "file = open('EnsembleModel.pkl','wb')\n",
        "pickle.dump(Ensemble_model,file)\n",
        "file.close()"
      ]
    }
  ],
  "metadata": {
    "colab": {
      "machine_shape": "hm",
      "provenance": [],
      "include_colab_link": true
    },
    "gpuClass": "standard",
    "kernelspec": {
      "display_name": "Python 3",
      "name": "python3"
    }
  },
  "nbformat": 4,
  "nbformat_minor": 0
}