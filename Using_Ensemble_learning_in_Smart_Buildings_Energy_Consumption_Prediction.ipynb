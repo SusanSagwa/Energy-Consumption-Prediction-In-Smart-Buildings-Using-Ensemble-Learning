{
  "cells": [
    {
      "cell_type": "markdown",
      "metadata": {
        "id": "view-in-github",
        "colab_type": "text"
      },
      "source": [
        "<a href=\"https://colab.research.google.com/github/SusanSagwa/Energy-Consumption-Prediction-In-Smart-Buildings-Using-Ensemble-Learning/blob/main/Using_Ensemble_learning_in_Smart_Buildings_Energy_Consumption_Prediction.ipynb\" target=\"_parent\"><img src=\"https://colab.research.google.com/assets/colab-badge.svg\" alt=\"Open In Colab\"/></a>"
      ]
    },
    {
      "cell_type": "markdown",
      "metadata": {
        "id": "PRDnm0lhzEyp"
      },
      "source": [
        "# Energy Consumption Prediction In Smart Buildings using Ensemble Learning:"
      ]
    },
    {
      "cell_type": "code",
      "execution_count": null,
      "metadata": {
        "colab": {
          "base_uri": "https://localhost:8080/"
        },
        "id": "kgakSPGCxmep",
        "outputId": "186a6475-5025-4b38-f7f6-aca0ab1f6f4e"
      },
      "outputs": [
        {
          "name": "stdout",
          "output_type": "stream",
          "text": [
            "Mounted at /content/drive\n"
          ]
        }
      ],
      "source": [
        "from google.colab import drive\n",
        "drive.mount('/content/drive')"
      ]
    },
    {
      "cell_type": "markdown",
      "metadata": {
        "id": "G3sH1OeVxiPT"
      },
      "source": [
        "## - Importing Necessary Libraries"
      ]
    },
    {
      "cell_type": "code",
      "execution_count": null,
      "metadata": {
        "colab": {
          "base_uri": "https://localhost:8080/"
        },
        "id": "5h4-2ayuABWJ",
        "outputId": "6d84bee2-916e-4f90-9f16-f1c33e5e1c93"
      },
      "outputs": [
        {
          "name": "stdout",
          "output_type": "stream",
          "text": [
            "/content/drive/MyDrive/EPdata/building_metadata.csv\n",
            "/content/drive/MyDrive/EPdata/sample_submission.csv\n",
            "/content/drive/MyDrive/EPdata/test.csv\n",
            "/content/drive/MyDrive/EPdata/train.csv\n",
            "/content/drive/MyDrive/EPdata/weather_test.csv\n",
            "/content/drive/MyDrive/EPdata/weather_train.csv\n"
          ]
        }
      ],
      "source": [
        "# Importing needed libraries to be used throughout the project\n",
        "\n",
        "%matplotlib inline\n",
        "\n",
        "import pandas as pd\n",
        "import numpy as np\n",
        "import matplotlib.pyplot as plt\n",
        "import seaborn as sns\n",
        "import os\n",
        "\n",
        "from sklearn.impute import SimpleImputer\n",
        "from sklearn.preprocessing import OneHotEncoder\n",
        "from sklearn.preprocessing import FunctionTransformer\n",
        "from sklearn.pipeline import Pipeline\n",
        "from sklearn.compose import ColumnTransformer\n",
        "from sklearn.preprocessing import LabelEncoder\n",
        "from sklearn import utils\n",
        "from sklearn import preprocessing\n",
        "from sklearn.model_selection import RandomizedSearchCV, GridSearchCV\n",
        "from sklearn.linear_model import LinearRegression\n",
        "from sklearn.linear_model import SGDRegressor,Ridge,ElasticNet\n",
        "from sklearn.model_selection import train_test_split,KFold,GroupKFold\n",
        "import lightgbm as lgb\n",
        "import gc\n",
        "from sklearn.metrics import mean_squared_error\n",
        "from sklearn.model_selection import cross_val_score\n",
        "from sklearn. linear_model import Lasso\n",
        "from sklearn.tree import DecisionTreeRegressor\n",
        "from sklearn.ensemble import StackingRegressor\n",
        "from lightgbm import LGBMRegressor\n",
        "\n",
        "import tensorflow as tf\n",
        "from tensorflow import keras\n",
        "import tensorflow.keras.layers as layers\n",
        "from tensorflow.keras.models import Sequential\n",
        "from tensorflow.keras.layers import Dense,Dropout, Activation\n",
        "from tensorflow.keras.optimizers import *\n",
        "\n",
        "from prettytable import PrettyTable\n",
        "\n",
        "import warnings\n",
        "warnings.filterwarnings('ignore')\n",
        "\n",
        "import os\n",
        "for dirname, _, filenames in os.walk('/content/drive/MyDrive/EPdata'):\n",
        "    for filename in filenames:\n",
        "        print(os.path.join(dirname, filename))"
      ]
    },
    {
      "cell_type": "markdown",
      "metadata": {
        "id": "OPc_EXwyA9b6"
      },
      "source": [
        "## - Loading and Reducing Memory Usage of Data"
      ]
    },
    {
      "cell_type": "code",
      "execution_count": null,
      "metadata": {
        "id": "R_JC2VvNxiPX"
      },
      "outputs": [],
      "source": [
        "data_path = \"/content/drive/MyDrive/EPdata\"\n",
        "\n",
        "train_path = data_path + \"/train.csv\"\n",
        "\n",
        "building_path = data_path + \"/building_metadata.csv\"\n",
        "\n",
        "weather_train_path = data_path + \"/weather_train.csv\""
      ]
    },
    {
      "cell_type": "code",
      "execution_count": null,
      "metadata": {
        "id": "4ZCqPZIVxiPY"
      },
      "outputs": [],
      "source": [
        "train_data = pd.read_csv(train_path)\n",
        "\n",
        "building_data = pd.read_csv(building_path)\n",
        "\n",
        "weather_train_data = pd.read_csv(weather_train_path)"
      ]
    },
    {
      "cell_type": "code",
      "execution_count": null,
      "metadata": {
        "id": "W3dUkNtVeSfP"
      },
      "outputs": [],
      "source": [
        "# Converting data into feather format since some dataframes are too large and take a long time to load\n",
        "# This method is inspired from the kaggle notebook titled: ASHRAE: feather format for fast loading\n",
        "# Which is found at: https://www.kaggle.com/corochann/ashrae-feather-format-for-fast-loading\n",
        "\n",
        "train_data.to_feather('train_data.feather')\n",
        "\n",
        "building_data.to_feather('building_data.feather')\n",
        "\n",
        "weather_train_data.to_feather('weather_train_data.feather')"
      ]
    },
    {
      "cell_type": "code",
      "execution_count": null,
      "metadata": {
        "id": "K-xSJPieegWJ"
      },
      "outputs": [],
      "source": [
        "train_data = pd.read_feather('train_data.feather')\n",
        "\n",
        "building_data = pd.read_feather('building_data.feather')\n",
        "\n",
        "weather_train_data = pd.read_feather('weather_train_data.feather')"
      ]
    },
    {
      "cell_type": "code",
      "execution_count": null,
      "metadata": {
        "id": "v3yIjOevKKKY"
      },
      "outputs": [],
      "source": [
        "# This function helps in optimizing the memory used by the dataframes by by modifying/altering thedatatype of each column.\n",
        "# This method is inspired from the kaggle notebook titled: load data (reduce memory usage)\n",
        "# Which is found at: https://www.kaggle.com/gemartin/load-data-reduce-memory-usage\n",
        "\n",
        "def reduce_mem_usage(df, df_name):\n",
        "\n",
        "    start_mem = df.memory_usage().sum() / 1024**2\n",
        "    \n",
        "    for col in df.columns:\n",
        "\n",
        "        col_type = df[col].dtype\n",
        "\n",
        "        if col_type != object:\n",
        "            c_min = df[col].min()\n",
        "            c_max = df[col].max()\n",
        "            if str(col_type)[:3] == 'int':\n",
        "                if c_min > np.iinfo(np.int8).min and c_max < np.iinfo(np.int8).max:\n",
        "                    df[col] = df[col].astype(np.int8)\n",
        "                elif c_min > np.iinfo(np.int16).min and c_max < np.iinfo(np.int16).max:\n",
        "                    df[col] = df[col].astype(np.int16)\n",
        "                elif c_min > np.iinfo(np.int32).min and c_max < np.iinfo(np.int32).max:\n",
        "                    df[col] = df[col].astype(np.int32)\n",
        "                elif c_min > np.iinfo(np.int64).min and c_max < np.iinfo(np.int64).max:\n",
        "                    df[col] = df[col].astype(np.int64)  \n",
        "            else:\n",
        "                if c_min > np.finfo(np.float16).min and c_max < np.finfo(np.float16).max:\n",
        "                    df[col] = df[col].astype(np.float16)\n",
        "                elif c_min > np.finfo(np.float32).min and c_max < np.finfo(np.float32).max:\n",
        "                    df[col] = df[col].astype(np.float32)\n",
        "                else:\n",
        "                    df[col] = df[col].astype(np.float64)\n",
        "        else:\n",
        "            df[col] = df[col].astype('category')\n",
        "\n",
        "    end_mem = df.memory_usage().sum() / 1024**2\n",
        "\n",
        "    print('Memory usage of {} is reduced by {:.2f} %. Usage dropped from {:.2f} MB to {:.2f} MB.'.format(df_name, (100 * (start_mem - end_mem) / start_mem), start_mem, end_mem))\n",
        "    \n",
        "    return df\n"
      ]
    },
    {
      "cell_type": "code",
      "execution_count": null,
      "metadata": {
        "colab": {
          "base_uri": "https://localhost:8080/"
        },
        "id": "XYZL4jkJeVyB",
        "outputId": "24f2980a-8540-45ca-dc19-0dd6d76a125c"
      },
      "outputs": [
        {
          "name": "stdout",
          "output_type": "stream",
          "text": [
            "Memory usage of Train Data is reduced by 71.82 %. Usage dropped from 616.95 MB to 173.84 MB.\n",
            "Memory usage of Building Data is reduced by 73.88 %. Usage dropped from 0.07 MB to 0.02 MB.\n",
            "Memory usage of Weather Train Data is reduced by 73.06 %. Usage dropped from 9.60 MB to 2.59 MB.\n"
          ]
        }
      ],
      "source": [
        "# Reducing Memory Usage of Data\n",
        "\n",
        "train_data = reduce_mem_usage(train_data, 'Train Data')\n",
        "\n",
        "building_data = reduce_mem_usage(building_data, 'Building Data')\n",
        "\n",
        "weather_train_data = reduce_mem_usage(weather_train_data, 'Weather Train Data')"
      ]
    },
    {
      "cell_type": "code",
      "execution_count": null,
      "metadata": {
        "id": "y67TusNcgV3a"
      },
      "outputs": [],
      "source": [
        "# Merging Data\n",
        "\n",
        "train = train_data.merge(building_data, on='building_id', how='left')\n",
        "train = train.merge(weather_train_data, on=['site_id', 'timestamp'], how='left')"
      ]
    },
    {
      "cell_type": "code",
      "execution_count": null,
      "metadata": {
        "id": "6A03K8Z5uydO"
      },
      "outputs": [],
      "source": [
        "# Breaking Timestamp into Hour, Day, Month, Year\n",
        "\n",
        "# This function firstly converts timestamp to date and then breaks down date into 6 new columns: hour, day, dayOfWeek, dayOfYear, month and year\n",
        "\n",
        "def breakdown_timestamp(dataframe):\n",
        "    \n",
        "    dataframe['timestamp']= pd.to_datetime(dataframe['timestamp'])\n",
        "\n",
        "    dataframe['hour']= np.uint8(dataframe['timestamp'].dt.hour)\n",
        "    \n",
        "    dataframe['day']= np.uint16(dataframe['timestamp'].dt.day)\n",
        "    dataframe['dayofweek']= np.uint8(dataframe['timestamp'].dt.dayofweek)\n",
        "    dataframe['dayofyear']= np.uint16(dataframe['timestamp'].dt.dayofyear)\n",
        "\n",
        "    dataframe['month']= np.uint8(dataframe['timestamp'].dt.month)\n",
        "\n",
        "    dataframe['year']= np.uint16(dataframe['timestamp'].dt.year)\n",
        "    \n",
        "    return dataframe"
      ]
    },
    {
      "cell_type": "code",
      "execution_count": null,
      "metadata": {
        "id": "0H9LBPwzuylB"
      },
      "outputs": [],
      "source": [
        "train = breakdown_timestamp(train)"
      ]
    },
    {
      "cell_type": "markdown",
      "metadata": {
        "id": "2xYWlMslxiPe"
      },
      "source": [
        "## - Applying Log Transformation to 'Meter Reading and 'Square Feet'"
      ]
    },
    {
      "cell_type": "code",
      "execution_count": null,
      "metadata": {
        "id": "QCXQ_JAqxiPe"
      },
      "outputs": [],
      "source": [
        "train['meter_reading'] = np.log1p(train['meter_reading'])"
      ]
    },
    {
      "cell_type": "code",
      "execution_count": null,
      "metadata": {
        "id": "bJBoMR-YxiPe"
      },
      "outputs": [],
      "source": [
        "train['square_feet'] = np.log1p(train['square_feet'])"
      ]
    },
    {
      "cell_type": "markdown",
      "metadata": {
        "id": "Zj-jRT7xxiPf"
      },
      "source": [
        "## - Data Preperation and Feature Engineering"
      ]
    },
    {
      "cell_type": "code",
      "execution_count": null,
      "metadata": {
        "id": "ir0EsgZoxiPf"
      },
      "outputs": [],
      "source": [
        "# Removing Zero Meter Readings\n",
        "\n",
        "zero_meter_readings = list(train[train['meter_reading'] == 0].index)\n",
        "train.drop(zero_meter_readings, axis = 0, inplace = True)"
      ]
    },
    {
      "cell_type": "code",
      "execution_count": null,
      "metadata": {
        "id": "AatlagurxiPg"
      },
      "outputs": [],
      "source": [
        "# Dropping Columns with More than 50 % Missing Values\n",
        "\n",
        "threshold = len(train) * 0.5\n",
        "train.dropna(axis=1, thresh = threshold, inplace = True)"
      ]
    },
    {
      "cell_type": "code",
      "execution_count": null,
      "metadata": {
        "id": "tlb1UsofxiPg"
      },
      "outputs": [],
      "source": [
        "# Filling Missing Values\n",
        "\n",
        "train['cloud_coverage'].fillna(train['cloud_coverage'].median(), inplace=True)\n",
        "train['sea_level_pressure'].fillna(train['sea_level_pressure'].median(), inplace=True)\n",
        "train['precip_depth_1_hr'].fillna(train['precip_depth_1_hr'].median(), inplace=True)\n",
        "train['wind_direction'].fillna(train['wind_direction'].median(), inplace=True)\n",
        "train['wind_speed'].fillna(train['wind_speed'].median(), inplace=True)\n",
        "train['dew_temperature'].fillna(train['dew_temperature'].median(), inplace=True)\n",
        "train['air_temperature'].fillna(train['air_temperature'].median(), inplace=True)"
      ]
    },
    {
      "cell_type": "code",
      "execution_count": null,
      "metadata": {
        "id": "WLdjee_0xiPg"
      },
      "outputs": [],
      "source": [
        "# adding new feature from existing ones to get better results\n",
        "\n",
        "train['season'] = train['timestamp'].apply(lambda x:'Spring' if x.month==3 or x.month==4 or x.month==5 else \n",
        "                                                  'Summer' if x.month==6 or x.month==7 or x.month==8 else \n",
        "                                                  'Autumn' if x.month==9 or x.month==10 or x.month==11 else \n",
        "                                                  'Winter')\n",
        "\n",
        "train['isDayTime'] = train['timestamp'].apply(lambda x: 1 if x.hour >=6 and x.hour <=18 else 0)"
      ]
    },
    {
      "cell_type": "code",
      "execution_count": null,
      "metadata": {
        "id": "nlQjgzn6xiPh"
      },
      "outputs": [],
      "source": [
        "# Encoding categorical data\n",
        "\n",
        "categorical_features = ['primary_use', 'season']\n",
        "\n",
        "encoder = preprocessing.LabelEncoder()\n",
        "\n",
        "for i in categorical_features:\n",
        "    \n",
        "    train[i] = encoder.fit_transform(train[i])\n",
        "    "
      ]
    },
    {
      "cell_type": "markdown",
      "metadata": {
        "id": "0aCbvt6ExiPh"
      },
      "source": [
        "## - Dropping Timestamp and Reducing Memory Usage Again"
      ]
    },
    {
      "cell_type": "code",
      "execution_count": null,
      "metadata": {
        "id": "dFUA6OCnxiPi"
      },
      "outputs": [],
      "source": [
        "train = train.drop(['timestamp'],axis=1)"
      ]
    },
    {
      "cell_type": "code",
      "execution_count": null,
      "metadata": {
        "colab": {
          "base_uri": "https://localhost:8080/"
        },
        "id": "1UghOPC3xiPi",
        "outputId": "63be23c3-a9bc-42f7-dec2-7d39858b1442"
      },
      "outputs": [
        {
          "name": "stdout",
          "output_type": "stream",
          "text": [
            "Memory usage of Train Data is reduced by 36.62 %. Usage dropped from 1241.96 MB to 787.16 MB.\n"
          ]
        }
      ],
      "source": [
        "reduced_train_data = reduce_mem_usage(train, 'Train Data')"
      ]
    },
    {
      "cell_type": "markdown",
      "metadata": {
        "id": "ydwUvXDhxiPi"
      },
      "source": [
        "## - Removing Least Important Features Generated by our Feature Selection Method"
      ]
    },
    {
      "cell_type": "code",
      "execution_count": null,
      "metadata": {
        "id": "zn8fH0M72yG6"
      },
      "outputs": [],
      "source": [
        "new_data = reduced_train_data[['building_id','square_feet','primary_use','meter','site_id','air_temperature','dayofyear','hour','isDayTime','dew_temperature','dayofweek', 'meter_reading']]"
      ]
    },
    {
      "cell_type": "code",
      "execution_count": null,
      "metadata": {
        "id": "oLudnHxa3B9P"
      },
      "outputs": [],
      "source": [
        "new_data.drop(['site_id','dew_temperature'],axis=1, inplace = True)"
      ]
    },
    {
      "cell_type": "markdown",
      "metadata": {
        "id": "Ucg_g-j-3qTs"
      },
      "source": [
        "# 8. Models and Fine Tuning"
      ]
    },
    {
      "cell_type": "code",
      "execution_count": null,
      "metadata": {
        "id": "podqBSjsxiPk"
      },
      "outputs": [],
      "source": [
        "X_train = new_data.drop(['meter_reading'],axis = 1)\n",
        "\n",
        "Y_train = new_data['meter_reading'].values"
      ]
    },
    {
      "cell_type": "markdown",
      "metadata": {
        "id": "CJRp4quk4Q4e"
      },
      "source": [
        "## 8.1 Basline Model"
      ]
    },
    {
      "cell_type": "code",
      "execution_count": null,
      "metadata": {
        "colab": {
          "base_uri": "https://localhost:8080/"
        },
        "id": "boJ171wC3uc1",
        "outputId": "4f5aae37-f85e-49d9-cf15-bc6cd86d4ae1"
      },
      "outputs": [
        {
          "name": "stdout",
          "output_type": "stream",
          "text": [
            "The RMSLE Score of the Baseline Model is : 1.772\n"
          ]
        }
      ],
      "source": [
        "def baselineModel(y_actual,y_pred):\n",
        "\n",
        "    rmsle_score = np.sqrt(np.mean((y_actual - y_pred) * (y_actual-y_pred)))\n",
        "    \n",
        "    print(\"The RMSLE Score of the Baseline Model is :\",rmsle_score)\n",
        "\n",
        "baselineModel(Y_train, np.median(Y_train))"
      ]
    },
    {
      "cell_type": "markdown",
      "metadata": {
        "id": "J_EClcXRxiPl"
      },
      "source": [
        "The baseline score can be computed is median value of labels. The baseline score for 50% of the data is 1.772. So it can be expected that the baseline score could be more."
      ]
    },
    {
      "cell_type": "markdown",
      "metadata": {
        "id": "RzdWj-IO4byQ"
      },
      "source": [
        "**Splitting the data for training and testing**"
      ]
    },
    {
      "cell_type": "code",
      "execution_count": null,
      "metadata": {
        "id": "VhSe5vVW4gMZ"
      },
      "outputs": [],
      "source": [
        "train_x, test_x, train_y, test_y = train_test_split(X_train,Y_train, test_size=0.2, random_state=42)"
      ]
    },
    {
      "cell_type": "markdown",
      "metadata": {
        "id": "ckUtLIW34g_4"
      },
      "source": [
        "**Calculating RMSLE**"
      ]
    },
    {
      "cell_type": "markdown",
      "metadata": {
        "id": "9zuXS-d0xiPm"
      },
      "source": [
        "RMSLE is the suggested evaluation metric for the models performance. Since we already applied log1p transformation to the target value 'Meter Reading', therefore, Root Mean Squared Error (RMSE) can be used directly. And can be computed as follows:"
      ]
    },
    {
      "cell_type": "code",
      "execution_count": null,
      "metadata": {
        "id": "PGw-MP784kfv"
      },
      "outputs": [],
      "source": [
        "def RMSLE(y_actual, y_pred):\n",
        "    \n",
        "    return np.sqrt(mean_squared_error(y_actual, y_pred))"
      ]
    },
    {
      "cell_type": "markdown",
      "metadata": {
        "id": "w9iDSXmf4lj-"
      },
      "source": [
        "## 8.2 Linear Regression"
      ]
    },
    {
      "cell_type": "code",
      "execution_count": null,
      "metadata": {
        "colab": {
          "base_uri": "https://localhost:8080/"
        },
        "id": "vy92R3c84oZR",
        "outputId": "8d00c1a5-3da6-4b4f-df1e-cdc9206922a3"
      },
      "outputs": [
        {
          "data": {
            "text/plain": [
              "LinearRegression()"
            ]
          },
          "execution_count": 27,
          "metadata": {},
          "output_type": "execute_result"
        }
      ],
      "source": [
        "linear_Regression = LinearRegression()\n",
        "linear_Regression.fit(train_x, train_y)"
      ]
    },
    {
      "cell_type": "markdown",
      "metadata": {
        "id": "ToTLBTVe4r47"
      },
      "source": [
        "**Calculating Prediction Score**"
      ]
    },
    {
      "cell_type": "code",
      "execution_count": null,
      "metadata": {
        "colab": {
          "base_uri": "https://localhost:8080/"
        },
        "id": "qIFM-6944t9L",
        "outputId": "b8fb37e5-9ed7-4daa-ba18-0811c6f0414c"
      },
      "outputs": [
        {
          "name": "stdout",
          "output_type": "stream",
          "text": [
            "Linear Regression Traininig RMSLE =  1.3811028\n",
            "Linear Regression Testing RMSLE =  1.3812215\n"
          ]
        }
      ],
      "source": [
        "print('Linear Regression Traininig RMSLE = ', RMSLE((train_y) , (linear_Regression.predict(train_x))))\n",
        "print('Linear Regression Testing RMSLE = ',RMSLE((test_y) ,(linear_Regression.predict(test_x))))"
      ]
    },
    {
      "cell_type": "markdown",
      "metadata": {
        "id": "P91FiA5-xiPo"
      },
      "source": [
        "**Linear Regresssion Cross Validation**"
      ]
    },
    {
      "cell_type": "code",
      "execution_count": null,
      "metadata": {
        "colab": {
          "base_uri": "https://localhost:8080/"
        },
        "id": "qI_0y7sCxiPo",
        "outputId": "5ab51e6b-b7d2-4b5f-fb32-d708e46e1106"
      },
      "outputs": [
        {
          "name": "stdout",
          "output_type": "stream",
          "text": [
            "Linear Regression CV Scores: [1.38170799 1.38183736 1.38029682 1.37994614 1.38219218 1.38118286\n",
            " 1.3830995  1.38021153 1.38149738 1.37906514]\n",
            "==========================================================================================\n",
            "Mean CV Score: 1.3811036903121514\n"
          ]
        }
      ],
      "source": [
        "lin_scores = cross_val_score(linear_Regression, train_x, train_y,scoring=\"neg_mean_squared_error\", cv=10)\n",
        "lin_rmse_scores = np.sqrt(-lin_scores)\n",
        "\n",
        "print(\"Linear Regression CV Scores:\", lin_rmse_scores)\n",
        "print(\"==========================================================================================\")\n",
        "print(\"Mean CV Score:\", lin_rmse_scores.mean())"
      ]
    },
    {
      "cell_type": "markdown",
      "metadata": {
        "id": "YhrWMWcr4u7v"
      },
      "source": [
        "## 8.3 ElasticNet"
      ]
    },
    {
      "cell_type": "markdown",
      "metadata": {
        "id": "4i9wp_xlxiPp"
      },
      "source": [
        "**Hyperparameter Tuning**"
      ]
    },
    {
      "cell_type": "code",
      "execution_count": null,
      "metadata": {
        "colab": {
          "base_uri": "https://localhost:8080/"
        },
        "id": "TUCSAET4xiPp",
        "outputId": "3a69b1db-ebaf-49ba-fb87-a9bead1c672b"
      },
      "outputs": [
        {
          "name": "stdout",
          "output_type": "stream",
          "text": [
            "Fitting 3 folds for each of 7 candidates, totalling 21 fits\n"
          ]
        },
        {
          "data": {
            "text/plain": [
              "GridSearchCV(cv=3, estimator=ElasticNet(), n_jobs=-1,\n",
              "             param_grid={'alpha': [0.001, 0.01, 0.1, 1, 10, 100, 1000],\n",
              "                         'fit_intercept': [False], 'l1_ratio': [0.5]},\n",
              "             return_train_score=True, scoring='neg_mean_squared_error',\n",
              "             verbose=1)"
            ]
          },
          "execution_count": 30,
          "metadata": {},
          "output_type": "execute_result"
        }
      ],
      "source": [
        "parameters = {'alpha':[0.001, 0.01, 0.1, 1, 10, 100, 1000],\n",
        "              'fit_intercept' : [False],\n",
        "              'l1_ratio':[0.5]}\n",
        "\n",
        "elasticnet = GridSearchCV(estimator = ElasticNet(),\n",
        "                        param_grid = parameters,\n",
        "                        cv = 3, \n",
        "                        scoring = 'neg_mean_squared_error',\n",
        "                        verbose = 1,\n",
        "                        return_train_score = True,\n",
        "                        n_jobs = -1)\n",
        "\n",
        "elasticnet.fit(train_x, train_y)"
      ]
    },
    {
      "cell_type": "code",
      "execution_count": null,
      "metadata": {
        "colab": {
          "base_uri": "https://localhost:8080/"
        },
        "id": "VSg8fl4ZxiPq",
        "outputId": "ac6fe23d-0cd4-42c9-ea48-0a7ed46c83b7"
      },
      "outputs": [
        {
          "name": "stdout",
          "output_type": "stream",
          "text": [
            "Best ElasticNet Estimator is :  ElasticNet(alpha=0.001, fit_intercept=False)\n",
            "Best ElasticNet Paramteres are :  {'alpha': 0.001, 'fit_intercept': False, 'l1_ratio': 0.5}\n"
          ]
        }
      ],
      "source": [
        "print(\"Best ElasticNet Estimator is : \", elasticnet.best_estimator_)\n",
        "print(\"Best ElasticNet Paramteres are : \", elasticnet.best_params_)"
      ]
    },
    {
      "cell_type": "markdown",
      "metadata": {
        "id": "smEA5wvjxiPq"
      },
      "source": [
        "**Building Best ElasticNet Estimator**"
      ]
    },
    {
      "cell_type": "code",
      "execution_count": null,
      "metadata": {
        "colab": {
          "base_uri": "https://localhost:8080/"
        },
        "id": "VGN5GWitxiPr",
        "outputId": "4419946b-4160-4223-a7d8-7f932c3ad513"
      },
      "outputs": [
        {
          "data": {
            "text/plain": [
              "ElasticNet(alpha=0.001, fit_intercept=False)"
            ]
          },
          "execution_count": 32,
          "metadata": {},
          "output_type": "execute_result"
        }
      ],
      "source": [
        "elastic_model = ElasticNet(alpha = 0.001, fit_intercept = False, l1_ratio = 0.5)\n",
        "elastic_model.fit(train_x, train_y)"
      ]
    },
    {
      "cell_type": "markdown",
      "metadata": {
        "id": "W35Ih6e55qvd"
      },
      "source": [
        "**Calculating Prediction Score**"
      ]
    },
    {
      "cell_type": "code",
      "execution_count": null,
      "metadata": {
        "colab": {
          "base_uri": "https://localhost:8080/"
        },
        "id": "SCARC8xXxiPr",
        "outputId": "f476952b-449d-4f1c-c455-41402ec507aa"
      },
      "outputs": [
        {
          "name": "stdout",
          "output_type": "stream",
          "text": [
            "ElasticNet Training RMSLE =  1.4735792\n",
            "ElasticNet Testing RMSLE =  1.4732091\n"
          ]
        }
      ],
      "source": [
        "print('ElasticNet Training RMSLE = ',RMSLE((train_y) , (elastic_model.predict(train_x))))\n",
        "print('ElasticNet Testing RMSLE = ',RMSLE((test_y) , (elastic_model.predict(test_x))))"
      ]
    },
    {
      "cell_type": "markdown",
      "metadata": {
        "id": "LDNxyIkg5tKs"
      },
      "source": [
        "## 8.4 Ridge"
      ]
    },
    {
      "cell_type": "markdown",
      "metadata": {
        "id": "f4kMJoaY5yvi"
      },
      "source": [
        "**Hyperparameters Tuning**"
      ]
    },
    {
      "cell_type": "code",
      "execution_count": null,
      "metadata": {
        "colab": {
          "base_uri": "https://localhost:8080/"
        },
        "id": "VQHijdGf5wlD",
        "outputId": "4ec55225-8391-4a96-cdf2-7e60a5b55c1e"
      },
      "outputs": [
        {
          "name": "stdout",
          "output_type": "stream",
          "text": [
            "Fitting 3 folds for each of 8 candidates, totalling 24 fits\n"
          ]
        },
        {
          "data": {
            "text/plain": [
              "GridSearchCV(cv=3, estimator=Ridge(), n_jobs=-1,\n",
              "             param_grid={'alpha': [0.0001, 0.001, 0.01, 0.1, 1, 10, 100, 1000],\n",
              "                         'fit_intercept': [True], 'solver': ['lsqr']},\n",
              "             return_train_score=True, scoring='neg_mean_squared_error',\n",
              "             verbose=1)"
            ]
          },
          "execution_count": 34,
          "metadata": {},
          "output_type": "execute_result"
        }
      ],
      "source": [
        "parameters = {'alpha':[0.0001, 0.001, 0.01, 0.1, 1, 10, 100, 1000],\n",
        "              'fit_intercept' : [True],\n",
        "              'solver' : ['lsqr']}\n",
        "\n",
        "ridge = GridSearchCV(estimator = Ridge(),\n",
        "                        param_grid = parameters,\n",
        "                        cv = 3, \n",
        "                        scoring = 'neg_mean_squared_error',\n",
        "                        verbose = 1,\n",
        "                        return_train_score = True,\n",
        "                        n_jobs = -1)\n",
        "\n",
        "ridge.fit(train_x, train_y)"
      ]
    },
    {
      "cell_type": "code",
      "execution_count": null,
      "metadata": {
        "colab": {
          "base_uri": "https://localhost:8080/"
        },
        "id": "FoVAVnWxxiPt",
        "outputId": "901ecb33-e16c-4502-e7c4-d344c9698d3c"
      },
      "outputs": [
        {
          "name": "stdout",
          "output_type": "stream",
          "text": [
            "Best Ridge Estimator is : Ridge(alpha=0.0001, solver='lsqr')\n",
            "Best Ridge Paramteres are :  {'alpha': 0.0001, 'fit_intercept': True, 'solver': 'lsqr'}\n"
          ]
        }
      ],
      "source": [
        "print(\"Best Ridge Estimator is :\",ridge.best_estimator_)\n",
        "print(\"Best Ridge Paramteres are : \", ridge.best_params_)"
      ]
    },
    {
      "cell_type": "markdown",
      "metadata": {
        "id": "qs1qyc9w5yNb"
      },
      "source": [
        "**Best Ridge Estimator**"
      ]
    },
    {
      "cell_type": "code",
      "execution_count": null,
      "metadata": {
        "colab": {
          "base_uri": "https://localhost:8080/"
        },
        "id": "RJ_aPX8b55OD",
        "outputId": "9259606b-40f3-4f58-f746-c37b581b0578"
      },
      "outputs": [
        {
          "data": {
            "text/plain": [
              "Ridge(alpha=0.0001, solver='lsqr')"
            ]
          },
          "execution_count": 36,
          "metadata": {},
          "output_type": "execute_result"
        }
      ],
      "source": [
        "Ridge = Ridge(alpha = 0.0001, fit_intercept = True, solver = \"lsqr\")\n",
        "Ridge.fit(train_x, train_y)"
      ]
    },
    {
      "cell_type": "markdown",
      "metadata": {
        "id": "UlbOdwQU58O0"
      },
      "source": [
        "**Calculating Prediction Score**"
      ]
    },
    {
      "cell_type": "code",
      "execution_count": null,
      "metadata": {
        "colab": {
          "base_uri": "https://localhost:8080/"
        },
        "id": "LGYl4qJn5-PD",
        "outputId": "f1ff7317-f0b5-462c-fbdc-b338436897e7"
      },
      "outputs": [
        {
          "name": "stdout",
          "output_type": "stream",
          "text": [
            "Ridge Training RMSLE =  1.3842031\n",
            "Ridge Testing RMSLE =  1.384215\n"
          ]
        }
      ],
      "source": [
        "print('Ridge Training RMSLE = ',RMSLE((train_y) , (Ridge.predict(train_x))))\n",
        "print('Ridge Testing RMSLE = ',RMSLE(test_y , Ridge.predict(test_x)))"
      ]
    },
    {
      "cell_type": "markdown",
      "metadata": {
        "id": "217dP5w8xiPv"
      },
      "source": [
        "## 8.5 Lasso"
      ]
    },
    {
      "cell_type": "markdown",
      "metadata": {
        "id": "AmdKRop4xiPw"
      },
      "source": [
        "**Hyperparameter Tuninig**"
      ]
    },
    {
      "cell_type": "code",
      "execution_count": null,
      "metadata": {
        "colab": {
          "base_uri": "https://localhost:8080/"
        },
        "id": "R6hLp4-9xiPw",
        "outputId": "ecbaf769-e9fb-4560-febe-8bd095428d96"
      },
      "outputs": [
        {
          "name": "stdout",
          "output_type": "stream",
          "text": [
            "Fitting 3 folds for each of 5 candidates, totalling 15 fits\n"
          ]
        },
        {
          "data": {
            "text/plain": [
              "GridSearchCV(cv=3, estimator=Lasso(), n_jobs=-1,\n",
              "             param_grid={'alpha': [0.001, 0.01, 0.1, 1, 10]},\n",
              "             return_train_score=True, scoring='neg_mean_squared_error',\n",
              "             verbose=1)"
            ]
          },
          "execution_count": 38,
          "metadata": {},
          "output_type": "execute_result"
        }
      ],
      "source": [
        "parameters = {'alpha':[0.001, 0.01, 0.1, 1, 10]}\n",
        "\n",
        "lasso = GridSearchCV(estimator = Lasso(),\n",
        "                        param_grid = parameters,\n",
        "                        cv = 3, \n",
        "                        scoring = 'neg_mean_squared_error',\n",
        "                        verbose = 1,\n",
        "                        return_train_score = True,\n",
        "                        n_jobs = -1)\n",
        "\n",
        "lasso.fit(train_x, train_y)"
      ]
    },
    {
      "cell_type": "code",
      "execution_count": null,
      "metadata": {
        "colab": {
          "base_uri": "https://localhost:8080/"
        },
        "id": "D8oAR13fxiPw",
        "outputId": "73e3739f-8de9-4e88-d62f-5770f9487dfc"
      },
      "outputs": [
        {
          "name": "stdout",
          "output_type": "stream",
          "text": [
            "Best Lasso Estimator  Lasso(alpha=0.001)\n",
            "Best Lasso Paramteres are :  {'alpha': 0.001}\n"
          ]
        }
      ],
      "source": [
        "print(\"Best Lasso Estimator \",lasso.best_estimator_)\n",
        "print(\"Best Lasso Paramteres are : \", lasso.best_params_)"
      ]
    },
    {
      "cell_type": "markdown",
      "metadata": {
        "id": "P-BZ6UrUxiPx"
      },
      "source": [
        "**Best Lasso Estimator**"
      ]
    },
    {
      "cell_type": "code",
      "execution_count": null,
      "metadata": {
        "colab": {
          "base_uri": "https://localhost:8080/"
        },
        "id": "ogxedteOxiPx",
        "outputId": "60577c9a-1984-48ff-d686-14eb3771a82e"
      },
      "outputs": [
        {
          "data": {
            "text/plain": [
              "Lasso(alpha=0.001)"
            ]
          },
          "execution_count": 40,
          "metadata": {},
          "output_type": "execute_result"
        }
      ],
      "source": [
        "Lasso = Lasso(alpha = 0.001)\n",
        "Lasso.fit(train_x, train_y)"
      ]
    },
    {
      "cell_type": "markdown",
      "metadata": {
        "id": "PoIs_9KDxiPx"
      },
      "source": [
        "**Calculating Prediction Score**"
      ]
    },
    {
      "cell_type": "code",
      "execution_count": null,
      "metadata": {
        "colab": {
          "base_uri": "https://localhost:8080/"
        },
        "id": "-h3TwHpkxiPy",
        "outputId": "0e55adcb-7948-414b-c910-9c77ad68ccfa"
      },
      "outputs": [
        {
          "name": "stdout",
          "output_type": "stream",
          "text": [
            "Lasso Traininig RMSLE =  1.3811055\n",
            "Lasso Testing RMSLE =  1.3812206\n"
          ]
        }
      ],
      "source": [
        "print('Lasso Traininig RMSLE = ',RMSLE((train_y) , (Lasso.predict(train_x))))\n",
        "print('Lasso Testing RMSLE = ',RMSLE(test_y , Lasso.predict(test_x)))"
      ]
    },
    {
      "cell_type": "markdown",
      "metadata": {
        "id": "dZ6s4mw45_Gf"
      },
      "source": [
        "## 8.6 Decision Tree"
      ]
    },
    {
      "cell_type": "markdown",
      "metadata": {
        "id": "LDzqmZ-L6fq-"
      },
      "source": [
        "**Hyperparameters Tuning**"
      ]
    },
    {
      "cell_type": "code",
      "execution_count": null,
      "metadata": {
        "colab": {
          "base_uri": "https://localhost:8080/"
        },
        "id": "QunAOxpvxiPz",
        "outputId": "10248f94-fc0f-4a27-a18b-3865b4614d67"
      },
      "outputs": [
        {
          "name": "stdout",
          "output_type": "stream",
          "text": [
            "Fitting 3 folds for each of 6 candidates, totalling 18 fits\n"
          ]
        },
        {
          "data": {
            "text/plain": [
              "GridSearchCV(cv=3, estimator=DecisionTreeRegressor(), n_jobs=-1,\n",
              "             param_grid={'max_depth': [3, 5, 7, 9, 11, 15]},\n",
              "             return_train_score=True, scoring='neg_mean_squared_error',\n",
              "             verbose=1)"
            ]
          },
          "execution_count": 42,
          "metadata": {},
          "output_type": "execute_result"
        }
      ],
      "source": [
        "parameters = {'max_depth': [3,5,7,9,11,15]}\n",
        "\n",
        "\n",
        "decission_tree = GridSearchCV(estimator = DecisionTreeRegressor(),\n",
        "                        param_grid = parameters,\n",
        "                        cv = 3, \n",
        "                        scoring = 'neg_mean_squared_error',\n",
        "                        verbose = 1,\n",
        "                        return_train_score = True,\n",
        "                        n_jobs = -1)\n",
        "\n",
        "decission_tree.fit(train_x, train_y)"
      ]
    },
    {
      "cell_type": "code",
      "execution_count": null,
      "metadata": {
        "colab": {
          "base_uri": "https://localhost:8080/"
        },
        "id": "cpuQtyn1xiPz",
        "outputId": "8830434a-5e10-4f63-f6ae-6fdaf9f66a8a"
      },
      "outputs": [
        {
          "name": "stdout",
          "output_type": "stream",
          "text": [
            "Best Decision Tree Estimator  DecisionTreeRegressor(max_depth=15)\n",
            "Best Decision Tree Paramteres are :  {'max_depth': 15}\n"
          ]
        }
      ],
      "source": [
        "print(\"Best Decision Tree Estimator \",decission_tree.best_estimator_)\n",
        "print(\"Best Decision Tree Paramteres are : \", decission_tree.best_params_)"
      ]
    },
    {
      "cell_type": "markdown",
      "metadata": {
        "id": "WC96G2COxiPz"
      },
      "source": [
        "**Best Decision Tree Estimator**"
      ]
    },
    {
      "cell_type": "code",
      "execution_count": null,
      "metadata": {
        "colab": {
          "base_uri": "https://localhost:8080/"
        },
        "id": "QjJp3apdxiP0",
        "outputId": "bb31c9dd-3348-4b16-d2e1-b3df8725ae5e"
      },
      "outputs": [
        {
          "data": {
            "text/plain": [
              "DecisionTreeRegressor(max_depth=15)"
            ]
          },
          "execution_count": 44,
          "metadata": {},
          "output_type": "execute_result"
        }
      ],
      "source": [
        "DecissionTree = DecisionTreeRegressor(max_depth=15)\n",
        "DecissionTree.fit(train_x, train_y)"
      ]
    },
    {
      "cell_type": "markdown",
      "metadata": {
        "id": "DJjgv7jLxiP0"
      },
      "source": [
        "**Calculating Prediction Score**"
      ]
    },
    {
      "cell_type": "code",
      "execution_count": null,
      "metadata": {
        "colab": {
          "base_uri": "https://localhost:8080/"
        },
        "id": "tBQ8xO2oxiP0",
        "outputId": "7e5b94fd-cbbc-4fa6-bd41-f0224a970973"
      },
      "outputs": [
        {
          "name": "stdout",
          "output_type": "stream",
          "text": [
            "Decision Tree Training RMSLE =  0.6077021748860626\n",
            "Decision Tree Testing RMSLE =  0.6099027690518829\n"
          ]
        }
      ],
      "source": [
        "print('Decision Tree Training RMSLE = ',RMSLE((train_y) , (DecissionTree.predict(train_x))))\n",
        "print('Decision Tree Testing RMSLE = ',RMSLE(test_y , DecissionTree.predict(test_x)))"
      ]
    },
    {
      "cell_type": "markdown",
      "metadata": {
        "id": "7cRU8JKRxiP4"
      },
      "source": [
        "## 8.8 SGD Regressor"
      ]
    },
    {
      "cell_type": "code",
      "execution_count": null,
      "metadata": {
        "id": "9yUqyNJrxiP5"
      },
      "outputs": [],
      "source": [
        "# Scaling the Data Prior to Passing it to the Model\n",
        "\n",
        "x_train_scaled = preprocessing.scale(train_x)\n",
        "x_test_scaled = preprocessing.scale(test_x)"
      ]
    },
    {
      "cell_type": "markdown",
      "metadata": {
        "id": "KTLmw_kyxiP5"
      },
      "source": [
        "**Hyperparameters Tuning**"
      ]
    },
    {
      "cell_type": "code",
      "execution_count": null,
      "metadata": {
        "colab": {
          "base_uri": "https://localhost:8080/"
        },
        "id": "VcdaIfoIxiP6",
        "outputId": "31d943ba-d960-4449-9e35-1f84ad04eefc"
      },
      "outputs": [
        {
          "name": "stdout",
          "output_type": "stream",
          "text": [
            "Fitting 3 folds for each of 4 candidates, totalling 12 fits\n"
          ]
        },
        {
          "data": {
            "text/plain": [
              "GridSearchCV(cv=3, estimator=SGDRegressor(), n_jobs=-1,\n",
              "             param_grid={'alpha': [0.0001, 0.001], 'early_stopping': [True],\n",
              "                         'eta0': [0.001],\n",
              "                         'learning_rate': ['adaptive', 'invscaling'],\n",
              "                         'penalty': ['l2']},\n",
              "             return_train_score=True, scoring='neg_mean_squared_error',\n",
              "             verbose=10)"
            ]
          },
          "execution_count": 47,
          "metadata": {},
          "output_type": "execute_result"
        }
      ],
      "source": [
        "parameters = {'alpha':[0.0001, 0.001],\n",
        "             'eta0': [0.001],\n",
        "             'penalty': ['l2'],\n",
        "             'learning_rate': ['adaptive', 'invscaling'],\n",
        "             'early_stopping': [True]}\n",
        "\n",
        "sgd = GridSearchCV(estimator = SGDRegressor(),\n",
        "                        param_grid = parameters,\n",
        "                        cv = 3, \n",
        "                        scoring = 'neg_mean_squared_error',\n",
        "                        verbose = 10,\n",
        "                        return_train_score = True,\n",
        "                        n_jobs = -1)\n",
        "\n",
        "sgd.fit(x_train_scaled, train_y)"
      ]
    },
    {
      "cell_type": "code",
      "execution_count": null,
      "metadata": {
        "colab": {
          "base_uri": "https://localhost:8080/"
        },
        "id": "QWt3pVu_xiP7",
        "outputId": "93d4c094-4d23-481c-9c28-8c614a10b1f6"
      },
      "outputs": [
        {
          "name": "stdout",
          "output_type": "stream",
          "text": [
            "Best SGDRegressor Estimator  SGDRegressor(early_stopping=True, eta0=0.001, learning_rate='adaptive')\n",
            "Best SGDRegressor Paramteres are :  {'alpha': 0.0001, 'early_stopping': True, 'eta0': 0.001, 'learning_rate': 'adaptive', 'penalty': 'l2'}\n"
          ]
        }
      ],
      "source": [
        "print(\"Best SGDRegressor Estimator \",sgd.best_estimator_)\n",
        "print(\"Best SGDRegressor Paramteres are : \", sgd.best_params_)"
      ]
    },
    {
      "cell_type": "markdown",
      "metadata": {
        "id": "2imhzlnyxiP7"
      },
      "source": [
        "**Best SGDRegressor**"
      ]
    },
    {
      "cell_type": "code",
      "execution_count": null,
      "metadata": {
        "colab": {
          "base_uri": "https://localhost:8080/"
        },
        "id": "W085-Ci8xiP8",
        "outputId": "de82dea9-67ba-4fb8-a2ad-803f1ea0f046"
      },
      "outputs": [
        {
          "data": {
            "text/plain": [
              "SGDRegressor(early_stopping=True, eta0=0.001, learning_rate='adaptive')"
            ]
          },
          "execution_count": 49,
          "metadata": {},
          "output_type": "execute_result"
        }
      ],
      "source": [
        "sgd_regressor = SGDRegressor(early_stopping=True, eta0=0.001, learning_rate='adaptive')\n",
        "sgd_regressor.fit(x_train_scaled, train_y)"
      ]
    },
    {
      "cell_type": "markdown",
      "metadata": {
        "id": "YdLe5gooxiP8"
      },
      "source": [
        "**Calculating Prediction Score**"
      ]
    },
    {
      "cell_type": "code",
      "execution_count": null,
      "metadata": {
        "colab": {
          "base_uri": "https://localhost:8080/"
        },
        "id": "xAKnto28xiP8",
        "outputId": "2ee37b97-f535-4295-f331-48fafca7e263"
      },
      "outputs": [
        {
          "name": "stdout",
          "output_type": "stream",
          "text": [
            "SGDRegressor Training RMSLE =  1.381103150649514\n",
            "SGDRegressor Testing RMSLE =  1.3812223264473986\n"
          ]
        }
      ],
      "source": [
        "print('SGDRegressor Training RMSLE = ',RMSLE((train_y) , (sgd_regressor.predict(x_train_scaled))))\n",
        "print('SGDRegressor Testing RMSLE = ',RMSLE(test_y , sgd_regressor.predict(x_test_scaled)))"
      ]
    },
    {
      "cell_type": "markdown",
      "metadata": {
        "id": "V6G4F7KQxiP_"
      },
      "source": [
        "## 8.10 3 Layer Neural Network"
      ]
    },
    {
      "cell_type": "code",
      "execution_count": null,
      "metadata": {
        "id": "lgAKD9TZxiP_"
      },
      "outputs": [],
      "source": [
        "from keras import backend as K\n",
        "\n",
        "def NN_RMSLE(y_actual, y_pred):\n",
        "    \n",
        "    return K.sqrt(K.mean(K.square(y_pred - y_actual))) "
      ]
    },
    {
      "cell_type": "code",
      "execution_count": null,
      "metadata": {
        "id": "dZedsdE-xiQA"
      },
      "outputs": [],
      "source": [
        "# Splitting Training Data into Trainig and Validation Sets\n",
        "\n",
        "train_xx, val_xx, train_yy, val_yy = train_test_split(train_x,train_y, test_size=0.2, random_state=42)"
      ]
    },
    {
      "cell_type": "code",
      "execution_count": null,
      "metadata": {
        "colab": {
          "background_save": true,
          "base_uri": "https://localhost:8080/"
        },
        "id": "b2fTulR_xiQA",
        "outputId": "8c501190-e773-408b-ffbd-4d2f55657cca"
      },
      "outputs": [
        {
          "name": "stdout",
          "output_type": "stream",
          "text": [
            "Epoch 1/15\n",
            "5732/5732 [==============================] - 271s 47ms/step - loss: 1.6317 - val_loss: 1.4258\n",
            "Epoch 2/15\n",
            "5732/5732 [==============================] - 272s 47ms/step - loss: 1.3081 - val_loss: 1.5089\n",
            "Epoch 3/15\n",
            "5732/5732 [==============================] - 262s 46ms/step - loss: 1.2657 - val_loss: 2.0952\n",
            "Epoch 4/15\n",
            "5732/5732 [==============================] - 264s 46ms/step - loss: 1.2468 - val_loss: 2.3786\n"
          ]
        },
        {
          "data": {
            "text/plain": [
              "<keras.callbacks.History at 0x7f6689925790>"
            ]
          },
          "execution_count": 53,
          "metadata": {},
          "output_type": "execute_result"
        }
      ],
      "source": [
        "from keras.callbacks import EarlyStopping\n",
        "\n",
        "model = Sequential()\n",
        "\n",
        "earlyStop= EarlyStopping(monitor='val_loss', mode='min', patience=3)\n",
        "\n",
        "model.add(layers.Dense(512, activation='relu',input_shape=(train_xx.shape[1],)))\n",
        "model.add(Dropout(0.5))\n",
        "model.add(layers.Dense(256, activation='relu'))\n",
        "model.add(Dropout(0.2))\n",
        "model.add(layers.Dense(64, activation='relu'))\n",
        "model.add(Dropout(0.2))\n",
        "model.add(Dense(1  ,activation='linear'))\n",
        "\n",
        "model.compile(optimizer='adam', loss = NN_RMSLE)\n",
        "\n",
        "model.fit(train_xx, train_yy, epochs = 15, batch_size = 2048, validation_data=(val_xx,val_yy),callbacks = earlyStop)"
      ]
    },
    {
      "cell_type": "code",
      "execution_count": null,
      "metadata": {
        "colab": {
          "background_save": true
        },
        "id": "tghPQz9XxiQB",
        "outputId": "022b08c5-e78f-45d6-95b7-50436e888e85"
      },
      "outputs": [
        {
          "name": "stdout",
          "output_type": "stream",
          "text": [
            "Neural Network Training RMSLE =  2.366048574447632\n",
            "Neural Network Testing RMSLE =  2.365642547607422\n"
          ]
        }
      ],
      "source": [
        "print('Neural Network Training RMSLE = ', model.evaluate(train_x, train_y, verbose=0))\n",
        "print('Neural Network Testing RMSLE = ', model.evaluate(test_x, test_y, verbose=0))"
      ]
    },
    {
      "cell_type": "markdown",
      "metadata": {
        "id": "k4iNKkM8xiQB"
      },
      "source": [
        "## 8.11 Scores Comparison"
      ]
    },
    {
      "cell_type": "code",
      "execution_count": null,
      "metadata": {
        "colab": {
          "background_save": true
        },
        "id": "P9wj_tW0DrtP",
        "outputId": "b22f88a3-6548-4578-9387-424d4f652163"
      },
      "outputs": [
        {
          "name": "stdout",
          "output_type": "stream",
          "text": [
            "+-----------------------+----------------+---------------+\n",
            "|       Model Name      | Training RMSLE | Testing RMSLE |\n",
            "+-----------------------+----------------+---------------+\n",
            "|    LinearRegression   |   1.3811028    |   1.3812215   |\n",
            "|       ElasticNet      |   1.4735792    |   1.4732091   |\n",
            "|         Ridge         |   1.3842031    |   1.3842150   |\n",
            "|         Lasso         |   1.3811055    |   1.3812206   |\n",
            "|      DecisionTree     |   0.6077021    |   0.6098925   |\n",
            "| RandomForestRegressor |    --------    |    --------   |\n",
            "|      SGDRegressor     |   1.3811040    |   1.3812219   |\n",
            "|          SVR          |    --------    |    --------   |\n",
            "|     Neural Network    |   2.2980730    |   2.2978658   |\n",
            "+-----------------------+----------------+---------------+\n"
          ]
        }
      ],
      "source": [
        "scores_table = PrettyTable([\"Model Name\",\"Training RMSLE\",\"Testing RMSLE\"])\n",
        "\n",
        "scores_table.add_row([\"LinearRegression\", \"1.3811028\", \"1.3812215\"])\n",
        "scores_table.add_row([\"ElasticNet\", \"1.4735792\", \"1.4732091\"])\n",
        "scores_table.add_row([\"Ridge\", \"1.3842031\", \"1.3842150\"])\n",
        "scores_table.add_row([\"Lasso\", \"1.3811055\", \"1.3812206\"])\n",
        "scores_table.add_row([\"DecisionTree\", \"0.6077021\", \"0.6098925\"])\n",
        "scores_table.add_row([\"RandomForestRegressor\", \"--------\", \"--------\"])\n",
        "scores_table.add_row([\"SGDRegressor\", \"1.3811040\", \"1.3812219\"])\n",
        "scores_table.add_row([\"SVR\", \"--------\", \"--------\"])\n",
        "scores_table.add_row([\"Neural Network\", \"2.2980730\", \"2.2978658\"])\n",
        "\n",
        "print(scores_table)"
      ]
    },
    {
      "cell_type": "markdown",
      "metadata": {
        "id": "UZigjKvRxiQC"
      },
      "source": [
        "**observations:**\n",
        "1. Out of all tested models, Decision Tree Regressor performed the best with an approximate RMSLE score of 0.6.\n",
        "2. Linear Regression, Ridge, Lasso and SGDRegressor had compitetively close scores, with Linear Regression talking the lead as the second best prediction method.\n",
        "3. Our constructed Neural Network Performed worst out of all tested models, indicating its unsuitability for such problem."
      ]
    },
    {
      "cell_type": "markdown",
      "metadata": {
        "id": "V2l9j5x8xiQC"
      },
      "source": [
        "# 9.  Analyzing the Best Model"
      ]
    },
    {
      "cell_type": "markdown",
      "metadata": {
        "id": "HyoLIaBKxiQD"
      },
      "source": [
        "##  9.1 Viewing the Scores of the Hyperparameter Combinations Tested During the Grid Search"
      ]
    },
    {
      "cell_type": "code",
      "execution_count": null,
      "metadata": {
        "colab": {
          "background_save": true
        },
        "id": "RC_04Q6AxiQD",
        "outputId": "0dd52fe1-66cc-4742-cff5-bbc78649d054"
      },
      "outputs": [
        {
          "data": {
            "text/html": [
              "\n",
              "  <div id=\"df-0d0ebe39-f39c-4023-b369-94fabfbbe7b8\">\n",
              "    <div class=\"colab-df-container\">\n",
              "      <div>\n",
              "<style scoped>\n",
              "    .dataframe tbody tr th:only-of-type {\n",
              "        vertical-align: middle;\n",
              "    }\n",
              "\n",
              "    .dataframe tbody tr th {\n",
              "        vertical-align: top;\n",
              "    }\n",
              "\n",
              "    .dataframe thead th {\n",
              "        text-align: right;\n",
              "    }\n",
              "</style>\n",
              "<table border=\"1\" class=\"dataframe\">\n",
              "  <thead>\n",
              "    <tr style=\"text-align: right;\">\n",
              "      <th></th>\n",
              "      <th>mean_fit_time</th>\n",
              "      <th>std_fit_time</th>\n",
              "      <th>mean_score_time</th>\n",
              "      <th>std_score_time</th>\n",
              "      <th>param_max_depth</th>\n",
              "      <th>params</th>\n",
              "      <th>split0_test_score</th>\n",
              "      <th>split1_test_score</th>\n",
              "      <th>split2_test_score</th>\n",
              "      <th>mean_test_score</th>\n",
              "      <th>std_test_score</th>\n",
              "      <th>rank_test_score</th>\n",
              "      <th>split0_train_score</th>\n",
              "      <th>split1_train_score</th>\n",
              "      <th>split2_train_score</th>\n",
              "      <th>mean_train_score</th>\n",
              "      <th>std_train_score</th>\n",
              "    </tr>\n",
              "  </thead>\n",
              "  <tbody>\n",
              "    <tr>\n",
              "      <th>0</th>\n",
              "      <td>21.092150</td>\n",
              "      <td>0.137254</td>\n",
              "      <td>0.298496</td>\n",
              "      <td>0.018423</td>\n",
              "      <td>3</td>\n",
              "      <td>{'max_depth': 3}</td>\n",
              "      <td>-1.914567</td>\n",
              "      <td>-1.916316</td>\n",
              "      <td>-1.912353</td>\n",
              "      <td>-1.914412</td>\n",
              "      <td>0.001622</td>\n",
              "      <td>6</td>\n",
              "      <td>-1.914330</td>\n",
              "      <td>-1.913455</td>\n",
              "      <td>-1.915438</td>\n",
              "      <td>-1.914408</td>\n",
              "      <td>0.000811</td>\n",
              "    </tr>\n",
              "    <tr>\n",
              "      <th>1</th>\n",
              "      <td>33.670158</td>\n",
              "      <td>0.350737</td>\n",
              "      <td>0.356031</td>\n",
              "      <td>0.008108</td>\n",
              "      <td>5</td>\n",
              "      <td>{'max_depth': 5}</td>\n",
              "      <td>-1.605538</td>\n",
              "      <td>-1.606929</td>\n",
              "      <td>-1.602004</td>\n",
              "      <td>-1.604824</td>\n",
              "      <td>0.002073</td>\n",
              "      <td>5</td>\n",
              "      <td>-1.604449</td>\n",
              "      <td>-1.603746</td>\n",
              "      <td>-1.606211</td>\n",
              "      <td>-1.604802</td>\n",
              "      <td>0.001037</td>\n",
              "    </tr>\n",
              "    <tr>\n",
              "      <th>2</th>\n",
              "      <td>47.852670</td>\n",
              "      <td>1.354007</td>\n",
              "      <td>0.446926</td>\n",
              "      <td>0.016009</td>\n",
              "      <td>7</td>\n",
              "      <td>{'max_depth': 7}</td>\n",
              "      <td>-1.296241</td>\n",
              "      <td>-1.297142</td>\n",
              "      <td>-1.293259</td>\n",
              "      <td>-1.295547</td>\n",
              "      <td>0.001660</td>\n",
              "      <td>4</td>\n",
              "      <td>-1.295030</td>\n",
              "      <td>-1.294548</td>\n",
              "      <td>-1.296523</td>\n",
              "      <td>-1.295367</td>\n",
              "      <td>0.000841</td>\n",
              "    </tr>\n",
              "    <tr>\n",
              "      <th>3</th>\n",
              "      <td>56.847460</td>\n",
              "      <td>0.957874</td>\n",
              "      <td>0.530833</td>\n",
              "      <td>0.008292</td>\n",
              "      <td>9</td>\n",
              "      <td>{'max_depth': 9}</td>\n",
              "      <td>-1.019235</td>\n",
              "      <td>-1.015169</td>\n",
              "      <td>-1.012483</td>\n",
              "      <td>-1.015629</td>\n",
              "      <td>0.002776</td>\n",
              "      <td>3</td>\n",
              "      <td>-1.016904</td>\n",
              "      <td>-1.013273</td>\n",
              "      <td>-1.015566</td>\n",
              "      <td>-1.015248</td>\n",
              "      <td>0.001499</td>\n",
              "    </tr>\n",
              "    <tr>\n",
              "      <th>4</th>\n",
              "      <td>67.421140</td>\n",
              "      <td>1.516140</td>\n",
              "      <td>0.617078</td>\n",
              "      <td>0.009840</td>\n",
              "      <td>11</td>\n",
              "      <td>{'max_depth': 11}</td>\n",
              "      <td>-0.722920</td>\n",
              "      <td>-0.718741</td>\n",
              "      <td>-0.719855</td>\n",
              "      <td>-0.720505</td>\n",
              "      <td>0.001767</td>\n",
              "      <td>2</td>\n",
              "      <td>-0.721179</td>\n",
              "      <td>-0.716033</td>\n",
              "      <td>-0.721682</td>\n",
              "      <td>-0.719631</td>\n",
              "      <td>0.002553</td>\n",
              "    </tr>\n",
              "    <tr>\n",
              "      <th>5</th>\n",
              "      <td>78.311778</td>\n",
              "      <td>6.026726</td>\n",
              "      <td>0.990788</td>\n",
              "      <td>0.086343</td>\n",
              "      <td>15</td>\n",
              "      <td>{'max_depth': 15}</td>\n",
              "      <td>-0.374347</td>\n",
              "      <td>-0.370871</td>\n",
              "      <td>-0.368125</td>\n",
              "      <td>-0.371115</td>\n",
              "      <td>0.002546</td>\n",
              "      <td>1</td>\n",
              "      <td>-0.369542</td>\n",
              "      <td>-0.364535</td>\n",
              "      <td>-0.364631</td>\n",
              "      <td>-0.366236</td>\n",
              "      <td>0.002338</td>\n",
              "    </tr>\n",
              "  </tbody>\n",
              "</table>\n",
              "</div>\n",
              "      <button class=\"colab-df-convert\" onclick=\"convertToInteractive('df-0d0ebe39-f39c-4023-b369-94fabfbbe7b8')\"\n",
              "              title=\"Convert this dataframe to an interactive table.\"\n",
              "              style=\"display:none;\">\n",
              "        \n",
              "  <svg xmlns=\"http://www.w3.org/2000/svg\" height=\"24px\"viewBox=\"0 0 24 24\"\n",
              "       width=\"24px\">\n",
              "    <path d=\"M0 0h24v24H0V0z\" fill=\"none\"/>\n",
              "    <path d=\"M18.56 5.44l.94 2.06.94-2.06 2.06-.94-2.06-.94-.94-2.06-.94 2.06-2.06.94zm-11 1L8.5 8.5l.94-2.06 2.06-.94-2.06-.94L8.5 2.5l-.94 2.06-2.06.94zm10 10l.94 2.06.94-2.06 2.06-.94-2.06-.94-.94-2.06-.94 2.06-2.06.94z\"/><path d=\"M17.41 7.96l-1.37-1.37c-.4-.4-.92-.59-1.43-.59-.52 0-1.04.2-1.43.59L10.3 9.45l-7.72 7.72c-.78.78-.78 2.05 0 2.83L4 21.41c.39.39.9.59 1.41.59.51 0 1.02-.2 1.41-.59l7.78-7.78 2.81-2.81c.8-.78.8-2.07 0-2.86zM5.41 20L4 18.59l7.72-7.72 1.47 1.35L5.41 20z\"/>\n",
              "  </svg>\n",
              "      </button>\n",
              "      \n",
              "  <style>\n",
              "    .colab-df-container {\n",
              "      display:flex;\n",
              "      flex-wrap:wrap;\n",
              "      gap: 12px;\n",
              "    }\n",
              "\n",
              "    .colab-df-convert {\n",
              "      background-color: #E8F0FE;\n",
              "      border: none;\n",
              "      border-radius: 50%;\n",
              "      cursor: pointer;\n",
              "      display: none;\n",
              "      fill: #1967D2;\n",
              "      height: 32px;\n",
              "      padding: 0 0 0 0;\n",
              "      width: 32px;\n",
              "    }\n",
              "\n",
              "    .colab-df-convert:hover {\n",
              "      background-color: #E2EBFA;\n",
              "      box-shadow: 0px 1px 2px rgba(60, 64, 67, 0.3), 0px 1px 3px 1px rgba(60, 64, 67, 0.15);\n",
              "      fill: #174EA6;\n",
              "    }\n",
              "\n",
              "    [theme=dark] .colab-df-convert {\n",
              "      background-color: #3B4455;\n",
              "      fill: #D2E3FC;\n",
              "    }\n",
              "\n",
              "    [theme=dark] .colab-df-convert:hover {\n",
              "      background-color: #434B5C;\n",
              "      box-shadow: 0px 1px 3px 1px rgba(0, 0, 0, 0.15);\n",
              "      filter: drop-shadow(0px 1px 2px rgba(0, 0, 0, 0.3));\n",
              "      fill: #FFFFFF;\n",
              "    }\n",
              "  </style>\n",
              "\n",
              "      <script>\n",
              "        const buttonEl =\n",
              "          document.querySelector('#df-0d0ebe39-f39c-4023-b369-94fabfbbe7b8 button.colab-df-convert');\n",
              "        buttonEl.style.display =\n",
              "          google.colab.kernel.accessAllowed ? 'block' : 'none';\n",
              "\n",
              "        async function convertToInteractive(key) {\n",
              "          const element = document.querySelector('#df-0d0ebe39-f39c-4023-b369-94fabfbbe7b8');\n",
              "          const dataTable =\n",
              "            await google.colab.kernel.invokeFunction('convertToInteractive',\n",
              "                                                     [key], {});\n",
              "          if (!dataTable) return;\n",
              "\n",
              "          const docLinkHtml = 'Like what you see? Visit the ' +\n",
              "            '<a target=\"_blank\" href=https://colab.research.google.com/notebooks/data_table.ipynb>data table notebook</a>'\n",
              "            + ' to learn more about interactive tables.';\n",
              "          element.innerHTML = '';\n",
              "          dataTable['output_type'] = 'display_data';\n",
              "          await google.colab.output.renderOutput(dataTable, element);\n",
              "          const docLink = document.createElement('div');\n",
              "          docLink.innerHTML = docLinkHtml;\n",
              "          element.appendChild(docLink);\n",
              "        }\n",
              "      </script>\n",
              "    </div>\n",
              "  </div>\n",
              "  "
            ],
            "text/plain": [
              "   mean_fit_time  std_fit_time  mean_score_time  std_score_time  \\\n",
              "0      21.092150      0.137254         0.298496        0.018423   \n",
              "1      33.670158      0.350737         0.356031        0.008108   \n",
              "2      47.852670      1.354007         0.446926        0.016009   \n",
              "3      56.847460      0.957874         0.530833        0.008292   \n",
              "4      67.421140      1.516140         0.617078        0.009840   \n",
              "5      78.311778      6.026726         0.990788        0.086343   \n",
              "\n",
              "  param_max_depth             params  split0_test_score  split1_test_score  \\\n",
              "0               3   {'max_depth': 3}          -1.914567          -1.916316   \n",
              "1               5   {'max_depth': 5}          -1.605538          -1.606929   \n",
              "2               7   {'max_depth': 7}          -1.296241          -1.297142   \n",
              "3               9   {'max_depth': 9}          -1.019235          -1.015169   \n",
              "4              11  {'max_depth': 11}          -0.722920          -0.718741   \n",
              "5              15  {'max_depth': 15}          -0.374347          -0.370871   \n",
              "\n",
              "   split2_test_score  mean_test_score  std_test_score  rank_test_score  \\\n",
              "0          -1.912353        -1.914412        0.001622                6   \n",
              "1          -1.602004        -1.604824        0.002073                5   \n",
              "2          -1.293259        -1.295547        0.001660                4   \n",
              "3          -1.012483        -1.015629        0.002776                3   \n",
              "4          -0.719855        -0.720505        0.001767                2   \n",
              "5          -0.368125        -0.371115        0.002546                1   \n",
              "\n",
              "   split0_train_score  split1_train_score  split2_train_score  \\\n",
              "0           -1.914330           -1.913455           -1.915438   \n",
              "1           -1.604449           -1.603746           -1.606211   \n",
              "2           -1.295030           -1.294548           -1.296523   \n",
              "3           -1.016904           -1.013273           -1.015566   \n",
              "4           -0.721179           -0.716033           -0.721682   \n",
              "5           -0.369542           -0.364535           -0.364631   \n",
              "\n",
              "   mean_train_score  std_train_score  \n",
              "0         -1.914408         0.000811  \n",
              "1         -1.604802         0.001037  \n",
              "2         -1.295367         0.000841  \n",
              "3         -1.015248         0.001499  \n",
              "4         -0.719631         0.002553  \n",
              "5         -0.366236         0.002338  "
            ]
          },
          "execution_count": 56,
          "metadata": {},
          "output_type": "execute_result"
        }
      ],
      "source": [
        "pd.DataFrame(decission_tree.cv_results_)"
      ]
    },
    {
      "cell_type": "markdown",
      "metadata": {
        "id": "trN4nv-nxiQD"
      },
      "source": [
        "## 9.2 Viewing the Relative Importance of Each Attribute for Making Accurate Predictions"
      ]
    },
    {
      "cell_type": "code",
      "execution_count": null,
      "metadata": {
        "colab": {
          "background_save": true
        },
        "id": "IwOg5kpLxiQE",
        "outputId": "ac1a5e4f-56dc-452a-8439-0d11f41b7bac"
      },
      "outputs": [
        {
          "data": {
            "text/plain": [
              "[(0.5078644415229162, 'square_feet'),\n",
              " (0.25006007393547725, 'building_id'),\n",
              " (0.1049615583380478, 'meter'),\n",
              " (0.052103259103294164, 'primary_use'),\n",
              " (0.050448170389695714, 'air_temperature'),\n",
              " (0.018365951798573234, 'dayofyear'),\n",
              " (0.0071371542745637204, 'isDayTime'),\n",
              " (0.006183650163011984, 'hour'),\n",
              " (0.002875740474420121, 'dayofweek')]"
            ]
          },
          "execution_count": 57,
          "metadata": {},
          "output_type": "execute_result"
        }
      ],
      "source": [
        "features_list = ['building_id','square_feet','primary_use','meter','air_temperature','dayofyear','hour','isDayTime','dayofweek']\n",
        "\n",
        "features_importance = decission_tree.best_estimator_.feature_importances_\n",
        "\n",
        "sorted(zip(features_importance, features_list), reverse=True)"
      ]
    },
    {
      "cell_type": "markdown",
      "metadata": {
        "id": "Saahz9M-xiQE"
      },
      "source": [
        "**Observations**\n",
        "1. Square Feet attribute contributes the most towards predicting the amount of energy consumption.\n",
        "2. Building Id is the second highly influencing factor, with an importance of 0.25.\n",
        "3. It seems that attributes relating to time and date do not affect energy consumption much."
      ]
    },
    {
      "cell_type": "markdown",
      "metadata": {
        "id": "5-DOaOe5xiQF"
      },
      "source": [
        "**Ensemble Methods**\n",
        "- We believe that Random Forest Regressor might offer better performance as they rely on Decision Trees and this ensemble can further enhance performance. Unfortunately, due to extremely slow running times/sessions crashing, we were unable to test this theory."
      ]
    },
    {
      "cell_type": "markdown",
      "metadata": {
        "id": "rC2z-SGeRJO4"
      },
      "source": [
        "# Ensemble Model"
      ]
    },
    {
      "cell_type": "code",
      "execution_count": null,
      "metadata": {
        "colab": {
          "background_save": true,
          "base_uri": "https://localhost:8080/"
        },
        "id": "2BdSxrEHRjbR",
        "outputId": "cd31e415-b9b2-483b-f4fe-46cf5bd32539"
      },
      "outputs": [
        {
          "metadata": {
            "tags": null
          },
          "name": "stdout",
          "output_type": "stream",
          "text": [
            "Fitting 3 folds for each of 4 candidates, totalling 12 fits\n"
          ]
        }
      ],
      "source": [
        "#create a dictionary of our models\n",
        "estimators=[('SGD', sgd), ('Ridge', ridge), ('Lasso', lasso), ('decisionTree', decission_tree)]\n",
        "\n",
        "#create our voting classifier, inputting our models\n",
        "ensemble = StackingRegressor(estimators=estimators, \n",
        "                             final_estimator=LGBMRegressor(objective='regression'))\n",
        "\n",
        "#fit model to training data\n",
        "ensemble.fit(train_x, train_y)\n",
        "\n",
        "#test our model on the test data\n",
        "ensemble.score(test_x, test_y)"
      ]
    },
    {
      "cell_type": "code",
      "execution_count": null,
      "metadata": {
        "id": "5SFA4SNUMyRf"
      },
      "outputs": [],
      "source": [
        "y_pred = ensemble.predict(test_x)\n",
        "error = math.sqrt(mean_squared_error(test_y, y_pred))\n",
        "print(error)"
      ]
    },
    {
      "cell_type": "code",
      "execution_count": null,
      "metadata": {
        "id": "qrRVEEVsM1Qe"
      },
      "outputs": [],
      "source": [
        "y_pred"
      ]
    }
  ],
  "metadata": {
    "accelerator": "GPU",
    "colab": {
      "collapsed_sections": [
        "Zj-jRT7xxiPf",
        "0aCbvt6ExiPh",
        "ydwUvXDhxiPi",
        "CJRp4quk4Q4e",
        "w9iDSXmf4lj-",
        "YhrWMWcr4u7v",
        "LDNxyIkg5tKs",
        "217dP5w8xiPv",
        "dZ6s4mw45_Gf",
        "7cRU8JKRxiP4",
        "V6G4F7KQxiP_",
        "HyoLIaBKxiQD",
        "trN4nv-nxiQD"
      ],
      "provenance": [],
      "include_colab_link": true
    },
    "gpuClass": "standard",
    "kernelspec": {
      "display_name": "Python 3",
      "language": "python",
      "name": "python3"
    },
    "language_info": {
      "codemirror_mode": {
        "name": "ipython",
        "version": 3
      },
      "file_extension": ".py",
      "mimetype": "text/x-python",
      "name": "python",
      "nbconvert_exporter": "python",
      "pygments_lexer": "ipython3",
      "version": "3.7.12"
    }
  },
  "nbformat": 4,
  "nbformat_minor": 0
}